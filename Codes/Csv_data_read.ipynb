{
 "cells": [
  {
   "cell_type": "code",
   "execution_count": 2,
   "metadata": {},
   "outputs": [
    {
     "name": "stdout",
     "output_type": "stream",
     "text": [
      "[Errno 2] No such file or directory: '../../../../E_drive/Dataset/Data-VPD-github1/data/Video/'\n",
      "/data/E_drive/Dataset/Data-VPD-github1/data/Video\n"
     ]
    }
   ],
   "source": [
    "cd ../../../../E_drive/Dataset/Data-VPD-github1/data/Video/"
   ]
  },
  {
   "cell_type": "code",
   "execution_count": 3,
   "metadata": {},
   "outputs": [
    {
     "data": {
      "text/plain": [
       "'/data/E_drive/Dataset/Data-VPD-github1/data/Video'"
      ]
     },
     "execution_count": 3,
     "metadata": {},
     "output_type": "execute_result"
    }
   ],
   "source": [
    "import os\n",
    "import matplotlib.pyplot as plt\n",
    "os.getcwd()"
   ]
  },
  {
   "cell_type": "code",
   "execution_count": 4,
   "metadata": {},
   "outputs": [],
   "source": [
    "import numpy as np\n",
    "import cv2\n",
    "from numba import jit, cuda"
   ]
  },
  {
   "cell_type": "code",
   "execution_count": 5,
   "metadata": {},
   "outputs": [],
   "source": [
    "face_cascade = cv2.CascadeClassifier('../../../opencv-master/data/haarcascades/haarcascade_frontalface_default.xml')\n",
    "eye_cascade = cv2.CascadeClassifier('../../../opencv-master/data/haarcascades/haarcascade_eye.xml')"
   ]
  },
  {
   "cell_type": "code",
   "execution_count": 6,
   "metadata": {},
   "outputs": [],
   "source": [
    "a =[]\n",
    "a.append(2)\n",
    "a.append(5)\n",
    "a\n",
    "import glob"
   ]
  },
  {
   "cell_type": "code",
   "execution_count": 7,
   "metadata": {
    "scrolled": true
   },
   "outputs": [],
   "source": [
    "from numba import jit\n",
    "\n",
    "class vidproc:\n",
    "    def __init__(self, cap =[], sav_opt = 0, filename=[]):\n",
    "        self.pixval1 = []\n",
    "        self.cap = cap\n",
    "        self.fps = cap.get(cv2.CAP_PROP_FPS)\n",
    "        self.sav_opt =  sav_opt\n",
    "        self.filename =  filename\n",
    "    \n",
    "    @jit\n",
    "    def run_vid(self):\n",
    "        pixVal = []\n",
    "        pixVal2 = []\n",
    "        cropmn = []\n",
    "        loop_t = 0\n",
    "        while(self.cap.isOpened()):\n",
    "            ret, frame = self.cap.read() \n",
    "\n",
    "            if ret ==0:\n",
    "                break\n",
    "            # converting BGR to HSV \n",
    "\n",
    "            gray = cv2.cvtColor(frame, cv2.COLOR_BGR2GRAY)\n",
    "\n",
    "            faces = face_cascade.detectMultiScale(\n",
    "                    gray,\n",
    "                    scaleFactor=1.1,\n",
    "                    minNeighbors=5,\n",
    "                    minSize = (30,30),\n",
    "                    flags = cv2.CASCADE_SCALE_IMAGE\n",
    "                    )\n",
    "\n",
    "            cropIm = frame[600:700, 700:750]\n",
    "            cropmn.append(cropIm.mean())\n",
    "\n",
    "            #eyes = eye_cascade.detectMultiScale(gray, 1.1,3)\n",
    "\n",
    "            #for f in faces:\n",
    "                #x, y, w, h = [ v for v in f ]\n",
    "               # cv2.rectangle(frame, (x,y), (x+w,y+h), (255,255,255))\n",
    "\n",
    "                #sub_face = frame[y-50:y+h+50, x:x+w]\n",
    "                #\n",
    "                #sub_face = frame[180:750, 750:1170]\n",
    "                \n",
    "                #sub_face = cv2.resize(sub_face, (600,700))\n",
    "                \n",
    "                #[a,b,c,d] = [30, 50, 550, 240]\n",
    "                \n",
    "                #cv2.rectangle(sub_face, (a,b), (c, d), (255,255,255))\n",
    "                \n",
    "                #chickimg = sub_face[b:d, a:c]\n",
    "                \n",
    "                #chickimg =  cv2.resize(chickimg, (200, 200))\n",
    "                \n",
    "            \n",
    "            sub_face = frame[200:800, 670:1050]\n",
    "                \n",
    "            sub_face = cv2.resize(sub_face, (600,700))\n",
    "                \n",
    "            [a,b,c,d] = [380, 350, 580, 550]\n",
    "                \n",
    "            cv2.rectangle(sub_face, (a,b), (c, d), (255,255,255))\n",
    "                \n",
    "            chickimg = sub_face[b:d, a:c]\n",
    "                \n",
    "            chickimg =  cv2.resize(chickimg, (200, 200))\n",
    "            \n",
    "            \n",
    "            # Display the resulting frame\n",
    "        \n",
    "            self.pixval1.append(chickimg)\n",
    "            \n",
    "            \n",
    "            cv2.imshow('Video', sub_face)           \n",
    "            if cv2.waitKey(1) & 0xFF == ord('q'):\n",
    "                break\n",
    "              \n",
    "            \n",
    "            loop_t = +1\n",
    "\n",
    "        pixd = {'p1': pixVal, 'p2': pixVal2, 'cpm' : cropmn}\n",
    "        self.pixval1 = np.array(self.pixval1)\n",
    "        \n",
    "        if self.sav_opt: \n",
    "            self.vidwrit(i2s =  self.pixval1) \n",
    "        \n",
    "        return pixd, self.pixval1\n",
    "    \n",
    "    \n",
    "    def vidwrit(self, i2s=[]):\n",
    "        \n",
    "        out = cv2.VideoWriter('TrainPrep/RCheek/' + self.filename ,cv2.VideoWriter_fourcc(*'DIVX'), \n",
    "                              self.fps, (200, 200))\n",
    "        for i in range(len(i2s)):\n",
    "            out.write(i2s[i])\n",
    "        out.release()"
   ]
  },
  {
   "cell_type": "code",
   "execution_count": 8,
   "metadata": {
    "scrolled": true
   },
   "outputs": [
    {
     "name": "stderr",
     "output_type": "stream",
     "text": [
      "<ipython-input-7-76a373ef29f1>:11: NumbaWarning: \u001b[1m\n",
      "Compilation is falling back to object mode WITH looplifting enabled because Function \"run_vid\" failed type inference due to: \u001b[1mUntyped global name 'face_cascade':\u001b[0m \u001b[1m\u001b[1mcannot determine Numba type of <class 'cv2.CascadeClassifier'>\u001b[0m\n",
      "\u001b[1m\n",
      "File \"<ipython-input-7-76a373ef29f1>\", line 26:\u001b[0m\n",
      "\u001b[1m    def run_vid(self):\n",
      "        <source elided>\n",
      "\n",
      "\u001b[1m            faces = face_cascade.detectMultiScale(\n",
      "\u001b[0m            \u001b[1m^\u001b[0m\u001b[0m\n",
      "\u001b[0m\u001b[0m\n",
      "  @jit\n",
      "<ipython-input-7-76a373ef29f1>:11: NumbaWarning: \u001b[1m\n",
      "Compilation is falling back to object mode WITHOUT looplifting enabled because Function \"run_vid\" failed type inference due to: \u001b[1m\u001b[1mcannot determine Numba type of <class 'numba.dispatcher.LiftedLoop'>\u001b[0m\n",
      "\u001b[1m\n",
      "File \"<ipython-input-7-76a373ef29f1>\", line 17:\u001b[0m\n",
      "\u001b[1m    def run_vid(self):\n",
      "        <source elided>\n",
      "        loop_t = 0\n",
      "\u001b[1m        while(self.cap.isOpened()):\n",
      "\u001b[0m        \u001b[1m^\u001b[0m\u001b[0m\n",
      "\u001b[0m\u001b[0m\n",
      "  @jit\n",
      "/home/zahid/anaconda3/envs/work_env/lib/python3.7/site-packages/numba/object_mode_passes.py:178: NumbaWarning: \u001b[1mFunction \"run_vid\" was compiled in object mode without forceobj=True, but has lifted loops.\n",
      "\u001b[1m\n",
      "File \"<ipython-input-7-76a373ef29f1>\", line 13:\u001b[0m\n",
      "\u001b[1m    def run_vid(self):\n",
      "\u001b[1m        pixVal = []\n",
      "\u001b[0m        \u001b[1m^\u001b[0m\u001b[0m\n",
      "\u001b[0m\n",
      "  state.func_ir.loc))\n",
      "/home/zahid/anaconda3/envs/work_env/lib/python3.7/site-packages/numba/object_mode_passes.py:188: NumbaDeprecationWarning: \u001b[1m\n",
      "Fall-back from the nopython compilation path to the object mode compilation path has been detected, this is deprecated behaviour.\n",
      "\n",
      "For more information visit http://numba.pydata.org/numba-doc/latest/reference/deprecation.html#deprecation-of-object-mode-fall-back-behaviour-when-using-jit\n",
      "\u001b[1m\n",
      "File \"<ipython-input-7-76a373ef29f1>\", line 13:\u001b[0m\n",
      "\u001b[1m    def run_vid(self):\n",
      "\u001b[1m        pixVal = []\n",
      "\u001b[0m        \u001b[1m^\u001b[0m\u001b[0m\n",
      "\u001b[0m\n",
      "  state.func_ir.loc))\n",
      "<ipython-input-7-76a373ef29f1>:11: NumbaWarning: \u001b[1m\n",
      "Compilation is falling back to object mode WITHOUT looplifting enabled because Function \"run_vid\" failed type inference due to: \u001b[1mUntyped global name 'face_cascade':\u001b[0m \u001b[1m\u001b[1mcannot determine Numba type of <class 'cv2.CascadeClassifier'>\u001b[0m\n",
      "\u001b[1m\n",
      "File \"<ipython-input-7-76a373ef29f1>\", line 26:\u001b[0m\n",
      "\u001b[1m    def run_vid(self):\n",
      "        <source elided>\n",
      "\n",
      "\u001b[1m            faces = face_cascade.detectMultiScale(\n",
      "\u001b[0m            \u001b[1m^\u001b[0m\u001b[0m\n",
      "\u001b[0m\u001b[0m\n",
      "  @jit\n",
      "/home/zahid/anaconda3/envs/work_env/lib/python3.7/site-packages/numba/object_mode_passes.py:178: NumbaWarning: \u001b[1mFunction \"run_vid\" was compiled in object mode without forceobj=True.\n",
      "\u001b[1m\n",
      "File \"<ipython-input-7-76a373ef29f1>\", line 17:\u001b[0m\n",
      "\u001b[1m    def run_vid(self):\n",
      "        <source elided>\n",
      "        loop_t = 0\n",
      "\u001b[1m        while(self.cap.isOpened()):\n",
      "\u001b[0m        \u001b[1m^\u001b[0m\u001b[0m\n",
      "\u001b[0m\n",
      "  state.func_ir.loc))\n",
      "/home/zahid/anaconda3/envs/work_env/lib/python3.7/site-packages/numba/object_mode_passes.py:188: NumbaDeprecationWarning: \u001b[1m\n",
      "Fall-back from the nopython compilation path to the object mode compilation path has been detected, this is deprecated behaviour.\n",
      "\n",
      "For more information visit http://numba.pydata.org/numba-doc/latest/reference/deprecation.html#deprecation-of-object-mode-fall-back-behaviour-when-using-jit\n",
      "\u001b[1m\n",
      "File \"<ipython-input-7-76a373ef29f1>\", line 17:\u001b[0m\n",
      "\u001b[1m    def run_vid(self):\n",
      "        <source elided>\n",
      "        loop_t = 0\n",
      "\u001b[1m        while(self.cap.isOpened()):\n",
      "\u001b[0m        \u001b[1m^\u001b[0m\u001b[0m\n",
      "\u001b[0m\n",
      "  state.func_ir.loc))\n"
     ]
    }
   ],
   "source": [
    "vidname = 'p15_physical.MP4'\n",
    "cap = cv2.VideoCapture(vidname)\n",
    "    # Check if camera opened successfully\n",
    "videop =  vidproc(cap = cap, sav_opt = 0, filename = vidname)\n",
    "pixVal, pv1 = videop.run_vid()\n",
    "\n",
    "cap.release()\n",
    "cv2.destroyAllWindows()\n",
    "\n",
    "pv1 = np.array(pv1)"
   ]
  },
  {
   "cell_type": "code",
   "execution_count": 9,
   "metadata": {},
   "outputs": [
    {
     "data": {
      "text/plain": [
       "'TrainPrep/LCheek/p1_physical.MP4'"
      ]
     },
     "execution_count": 9,
     "metadata": {},
     "output_type": "execute_result"
    }
   ],
   "source": [
    "vidname = 'p1_physical.MP4'\n",
    "'TrainPrep/LCheek/'+vidname"
   ]
  },
  {
   "cell_type": "code",
   "execution_count": 10,
   "metadata": {},
   "outputs": [],
   "source": [
    "out = cv2.VideoWriter('TrainPrep/LCheek/p13vong_normal.avi',cv2.VideoWriter_fourcc(*'DIVX'), 25.0, (200, 200))\n",
    "for i in range(len(pv1)):\n",
    "    out.write(pv1[i])\n",
    "out.release()"
   ]
  },
  {
   "cell_type": "code",
   "execution_count": 11,
   "metadata": {},
   "outputs": [],
   "source": [
    "#videop.vidwrit(pv1)"
   ]
  },
  {
   "cell_type": "code",
   "execution_count": 12,
   "metadata": {},
   "outputs": [
    {
     "name": "stdout",
     "output_type": "stream",
     "text": [
      "25.0\n"
     ]
    }
   ],
   "source": [
    "cap = cv2.VideoCapture('p13_normal.MP4')\n",
    "fps = cap.get(cv2.CAP_PROP_FPS)\n",
    "cap.release()\n",
    "print(fps)"
   ]
  },
  {
   "cell_type": "code",
   "execution_count": 13,
   "metadata": {},
   "outputs": [
    {
     "ename": "NameError",
     "evalue": "name 'pixVal1' is not defined",
     "output_type": "error",
     "traceback": [
      "\u001b[0;31m---------------------------------------------------------------------------\u001b[0m",
      "\u001b[0;31mNameError\u001b[0m                                 Traceback (most recent call last)",
      "\u001b[0;32m<ipython-input-13-359d69a862ac>\u001b[0m in \u001b[0;36m<module>\u001b[0;34m\u001b[0m\n\u001b[0;32m----> 1\u001b[0;31m \u001b[0mplt\u001b[0m\u001b[0;34m.\u001b[0m\u001b[0mplot\u001b[0m\u001b[0;34m(\u001b[0m\u001b[0mpixVal1\u001b[0m\u001b[0;34m[\u001b[0m\u001b[0;34m'cpm'\u001b[0m\u001b[0;34m]\u001b[0m\u001b[0;34m)\u001b[0m\u001b[0;34m,\u001b[0m \u001b[0mplt\u001b[0m\u001b[0;34m.\u001b[0m\u001b[0mxlabel\u001b[0m\u001b[0;34m(\u001b[0m\u001b[0;34m\"Time\"\u001b[0m\u001b[0;34m)\u001b[0m\u001b[0;34m,\u001b[0m \u001b[0mplt\u001b[0m\u001b[0;34m.\u001b[0m\u001b[0mylabel\u001b[0m\u001b[0;34m(\u001b[0m\u001b[0;34m\"Magnitude\"\u001b[0m\u001b[0;34m)\u001b[0m\u001b[0;34m,\u001b[0m \u001b[0mplt\u001b[0m\u001b[0;34m.\u001b[0m\u001b[0mtitle\u001b[0m\u001b[0;34m(\u001b[0m\u001b[0;34m\"Original signal\"\u001b[0m\u001b[0;34m)\u001b[0m\u001b[0;34m\u001b[0m\u001b[0;34m\u001b[0m\u001b[0m\n\u001b[0m",
      "\u001b[0;31mNameError\u001b[0m: name 'pixVal1' is not defined"
     ]
    }
   ],
   "source": [
    "\n",
    "plt.plot(pixVal1['cpm']), plt.xlabel(\"Time\"), plt.ylabel(\"Magnitude\"), plt.title(\"Original signal\")"
   ]
  },
  {
   "cell_type": "code",
   "execution_count": 14,
   "metadata": {},
   "outputs": [
    {
     "ename": "NameError",
     "evalue": "name 'pixVal1' is not defined",
     "output_type": "error",
     "traceback": [
      "\u001b[0;31m---------------------------------------------------------------------------\u001b[0m",
      "\u001b[0;31mNameError\u001b[0m                                 Traceback (most recent call last)",
      "\u001b[0;32m<ipython-input-14-aace1dd36aff>\u001b[0m in \u001b[0;36m<module>\u001b[0;34m\u001b[0m\n\u001b[0;32m----> 1\u001b[0;31m \u001b[0mbb\u001b[0m\u001b[0;34m=\u001b[0m \u001b[0mnp\u001b[0m\u001b[0;34m.\u001b[0m\u001b[0marray\u001b[0m\u001b[0;34m(\u001b[0m \u001b[0mpixVal1\u001b[0m\u001b[0;34m[\u001b[0m\u001b[0;34m'cpm'\u001b[0m\u001b[0;34m]\u001b[0m\u001b[0;34m)\u001b[0m\u001b[0;34m\u001b[0m\u001b[0;34m\u001b[0m\u001b[0m\n\u001b[0m\u001b[1;32m      2\u001b[0m \u001b[0;34m\u001b[0m\u001b[0m\n\u001b[1;32m      3\u001b[0m \u001b[0;31m#bb= np.reshape(bb, [-1,1])\u001b[0m\u001b[0;34m\u001b[0m\u001b[0;34m\u001b[0m\u001b[0;34m\u001b[0m\u001b[0m\n\u001b[1;32m      4\u001b[0m \u001b[0;34m\u001b[0m\u001b[0m\n\u001b[1;32m      5\u001b[0m \u001b[0mbb\u001b[0m\u001b[0;34m.\u001b[0m\u001b[0mshape\u001b[0m\u001b[0;34m\u001b[0m\u001b[0;34m\u001b[0m\u001b[0m\n",
      "\u001b[0;31mNameError\u001b[0m: name 'pixVal1' is not defined"
     ]
    }
   ],
   "source": [
    "bb= np.array( pixVal1['cpm'])\n",
    "\n",
    "#bb= np.reshape(bb, [-1,1])\n",
    "\n",
    "bb.shape"
   ]
  },
  {
   "cell_type": "code",
   "execution_count": 15,
   "metadata": {},
   "outputs": [
    {
     "ename": "NameError",
     "evalue": "name 'bb' is not defined",
     "output_type": "error",
     "traceback": [
      "\u001b[0;31m---------------------------------------------------------------------------\u001b[0m",
      "\u001b[0;31mNameError\u001b[0m                                 Traceback (most recent call last)",
      "\u001b[0;32m<ipython-input-15-d34d7b8776cc>\u001b[0m in \u001b[0;36m<module>\u001b[0;34m\u001b[0m\n\u001b[1;32m      2\u001b[0m \u001b[0;32mfrom\u001b[0m \u001b[0mscipy\u001b[0m\u001b[0;34m.\u001b[0m\u001b[0mfftpack\u001b[0m \u001b[0;32mimport\u001b[0m \u001b[0mfft\u001b[0m\u001b[0;34m\u001b[0m\u001b[0;34m\u001b[0m\u001b[0m\n\u001b[1;32m      3\u001b[0m \u001b[0;34m\u001b[0m\u001b[0m\n\u001b[0;32m----> 4\u001b[0;31m \u001b[0myf\u001b[0m \u001b[0;34m=\u001b[0m \u001b[0mscipy\u001b[0m\u001b[0;34m.\u001b[0m\u001b[0mfftpack\u001b[0m\u001b[0;34m.\u001b[0m\u001b[0mfft\u001b[0m\u001b[0;34m(\u001b[0m\u001b[0mbb\u001b[0m\u001b[0;34m)\u001b[0m\u001b[0;34m\u001b[0m\u001b[0;34m\u001b[0m\u001b[0m\n\u001b[0m\u001b[1;32m      5\u001b[0m \u001b[0;34m\u001b[0m\u001b[0m\n\u001b[1;32m      6\u001b[0m \u001b[0mxf\u001b[0m \u001b[0;34m=\u001b[0m  \u001b[0mnp\u001b[0m\u001b[0;34m.\u001b[0m\u001b[0mlinspace\u001b[0m\u001b[0;34m(\u001b[0m\u001b[0;36m0\u001b[0m\u001b[0;34m,\u001b[0m\u001b[0;36m12.5\u001b[0m\u001b[0;34m,\u001b[0m \u001b[0;36m500\u001b[0m\u001b[0;34m)\u001b[0m\u001b[0;34m\u001b[0m\u001b[0;34m\u001b[0m\u001b[0m\n",
      "\u001b[0;31mNameError\u001b[0m: name 'bb' is not defined"
     ]
    }
   ],
   "source": [
    "import scipy\n",
    "from scipy.fftpack import fft \n",
    "\n",
    "yf = scipy.fftpack.fft(bb) \n",
    " \n",
    "xf =  np.linspace(0,12.5, 500)\n",
    "plt.plot(np.abs(yf[20:200]))\n",
    "\n",
    "\n",
    "## Get frequencies corresponding to signal PSD "
   ]
  },
  {
   "cell_type": "code",
   "execution_count": 16,
   "metadata": {},
   "outputs": [
    {
     "ename": "NameError",
     "evalue": "name 'bb' is not defined",
     "output_type": "error",
     "traceback": [
      "\u001b[0;31m---------------------------------------------------------------------------\u001b[0m",
      "\u001b[0;31mNameError\u001b[0m                                 Traceback (most recent call last)",
      "\u001b[0;32m<ipython-input-16-009b5d28c859>\u001b[0m in \u001b[0;36m<module>\u001b[0;34m\u001b[0m\n\u001b[0;32m----> 1\u001b[0;31m \u001b[0mfreq\u001b[0m \u001b[0;34m=\u001b[0m \u001b[0mnp\u001b[0m\u001b[0;34m.\u001b[0m\u001b[0mfft\u001b[0m\u001b[0;34m.\u001b[0m\u001b[0mfftfreq\u001b[0m\u001b[0;34m(\u001b[0m\u001b[0mbb\u001b[0m\u001b[0;34m.\u001b[0m\u001b[0msize\u001b[0m\u001b[0;34m,\u001b[0m \u001b[0md\u001b[0m\u001b[0;34m=\u001b[0m\u001b[0;36m1\u001b[0m\u001b[0;34m/\u001b[0m\u001b[0;36m25\u001b[0m\u001b[0;34m)\u001b[0m\u001b[0;34m\u001b[0m\u001b[0;34m\u001b[0m\u001b[0m\n\u001b[0m\u001b[1;32m      2\u001b[0m \u001b[0mval\u001b[0m \u001b[0;34m=\u001b[0m \u001b[0mnp\u001b[0m\u001b[0;34m.\u001b[0m\u001b[0mabs\u001b[0m\u001b[0;34m(\u001b[0m\u001b[0mfreq\u001b[0m\u001b[0;34m)\u001b[0m\u001b[0;34m<\u001b[0m\u001b[0;36m.8\u001b[0m\u001b[0;34m\u001b[0m\u001b[0;34m\u001b[0m\u001b[0m\n\u001b[1;32m      3\u001b[0m \u001b[0;34m\u001b[0m\u001b[0m\n\u001b[1;32m      4\u001b[0m \u001b[0myf\u001b[0m\u001b[0;34m[\u001b[0m\u001b[0mval\u001b[0m\u001b[0;34m]\u001b[0m \u001b[0;34m=\u001b[0m \u001b[0;36m0\u001b[0m\u001b[0;34m\u001b[0m\u001b[0;34m\u001b[0m\u001b[0m\n\u001b[1;32m      5\u001b[0m \u001b[0;34m\u001b[0m\u001b[0m\n",
      "\u001b[0;31mNameError\u001b[0m: name 'bb' is not defined"
     ]
    }
   ],
   "source": [
    "freq = np.fft.fftfreq(bb.size, d=1/25)\n",
    "val = np.abs(freq)<.8\n",
    "\n",
    "yf[val] = 0\n",
    "\n",
    "val = np.abs(freq)>4\n",
    "\n",
    "yf[val] = 0\n",
    "\n",
    "\n",
    "plt.plot(freq, np.abs(yf)), plt.xlabel(\"Frequency\"), plt.ylabel(\"Magnitude\"), plt.title(\"Filtered frequency\")\n",
    "\n",
    "resig = scipy.fftpack.ifft(yf)\n",
    "plt.figure()\n",
    "plt.plot(resig), plt.xlabel(\"Time\"), plt.ylabel(\"Magnitude\"),  plt.title(\"Reconstructed\")"
   ]
  },
  {
   "cell_type": "code",
   "execution_count": 17,
   "metadata": {},
   "outputs": [
    {
     "data": {
      "text/plain": [
       "'/data/E_drive/Dataset/Data-VPD-github1/data/Video'"
      ]
     },
     "execution_count": 17,
     "metadata": {},
     "output_type": "execute_result"
    }
   ],
   "source": [
    "pwd"
   ]
  },
  {
   "cell_type": "code",
   "execution_count": 18,
   "metadata": {
    "scrolled": true
   },
   "outputs": [
    {
     "data": {
      "text/plain": [
       "'-97'"
      ]
     },
     "execution_count": 18,
     "metadata": {},
     "output_type": "execute_result"
    }
   ],
   "source": [
    "file= open(\"../ECG/p15_physical.txt\",\"rt\")\n",
    "text = file.read()\n",
    "file.close()\n",
    "\n",
    "val = text.split()\n",
    "\n",
    "len(val)\n",
    "val[520]"
   ]
  },
  {
   "cell_type": "code",
   "execution_count": 19,
   "metadata": {},
   "outputs": [
    {
     "data": {
      "text/plain": [
       "dict"
      ]
     },
     "execution_count": 19,
     "metadata": {},
     "output_type": "execute_result"
    },
    {
     "data": {
      "image/png": "[encoded data removed]",
      "text/plain": [
       "<Figure size 432x288 with 1 Axes>"
      ]
     },
     "metadata": {
      "needs_background": "light"
     },
     "output_type": "display_data"
    }
   ],
   "source": [
    "# Reading ECG signal form the text file \n",
    "EcgS = {}\n",
    "\n",
    "for i,j in zip(['#I[uV]','#II[uV]', '#III[uV]', '#avR[uV]', '#avL[uV]'],['#II[uV]', '#III[uV]', '#avR[uV]', '#avL[uV]','#avF[uV]']):\n",
    "    resf = np.array( [ _ for _ in range(len(val)) if val[_] == i])\n",
    "    rese = np.array( [_ for _ in range(len(val)) if val[_] == j])\n",
    "    EcgS[i] =  np.array(val[resf[0]+1: rese[0]]).astype(float)\n",
    "\n",
    "EcgS[j] = np.array(val[rese[0]+1:]).astype(float)\n",
    "\n",
    "#plt.plot(val2)\n",
    "plt.plot(EcgS['#I[uV]'][8:]), plt.xlabel(\"Time\"), plt.ylabel(\"Magnitude\"),  plt.title(\"ECG\")\n",
    "\n",
    "type(EcgS)"
   ]
  },
  {
   "cell_type": "code",
   "execution_count": 20,
   "metadata": {},
   "outputs": [
    {
     "data": {
      "text/plain": [
       "dict"
      ]
     },
     "execution_count": 20,
     "metadata": {},
     "output_type": "execute_result"
    }
   ],
   "source": [
    "type(EcgS)"
   ]
  },
  {
   "cell_type": "code",
   "execution_count": 21,
   "metadata": {},
   "outputs": [],
   "source": [
    "from scipy.io import loadmat\n",
    "x=loadmat('../../../Merl_Tim/Subject1_still/PulseOX/pulseOx.mat')"
   ]
  },
  {
   "cell_type": "code",
   "execution_count": 22,
   "metadata": {},
   "outputs": [
    {
     "data": {
      "text/plain": [
       "dict_keys(['__header__', '__version__', '__globals__', 'pulseOxRecord', 'pulseOxTime', 'numPulseSample'])"
      ]
     },
     "execution_count": 22,
     "metadata": {},
     "output_type": "execute_result"
    }
   ],
   "source": [
    "x.keys()"
   ]
  },
  {
   "cell_type": "code",
   "execution_count": 23,
   "metadata": {},
   "outputs": [
    {
     "data": {
      "text/plain": [
       "[]"
      ]
     },
     "execution_count": 23,
     "metadata": {},
     "output_type": "execute_result"
    }
   ],
   "source": [
    "x['__globals__']"
   ]
  },
  {
   "cell_type": "code",
   "execution_count": 24,
   "metadata": {},
   "outputs": [],
   "source": [
    "pulseoxR = np.squeeze(x['pulseOxRecord'])\n",
    "pulseoxT = x['pulseOxTime']"
   ]
  },
  {
   "cell_type": "code",
   "execution_count": 25,
   "metadata": {},
   "outputs": [
    {
     "ename": "IndexError",
     "evalue": "tuple index out of range",
     "output_type": "error",
     "traceback": [
      "\u001b[0;31m---------------------------------------------------------------------------\u001b[0m",
      "\u001b[0;31mIndexError\u001b[0m                                Traceback (most recent call last)",
      "\u001b[0;32m<ipython-input-25-2fd25f3963cc>\u001b[0m in \u001b[0;36m<module>\u001b[0;34m\u001b[0m\n\u001b[1;32m      1\u001b[0m \u001b[0mpulT\u001b[0m \u001b[0;34m=\u001b[0m \u001b[0;34m[\u001b[0m\u001b[0;34m]\u001b[0m\u001b[0;34m\u001b[0m\u001b[0;34m\u001b[0m\u001b[0m\n\u001b[0;32m----> 2\u001b[0;31m \u001b[0mpulseoxR\u001b[0m\u001b[0;34m.\u001b[0m\u001b[0mshape\u001b[0m\u001b[0;34m[\u001b[0m\u001b[0;36m1\u001b[0m\u001b[0;34m]\u001b[0m\u001b[0;34m\u001b[0m\u001b[0;34m\u001b[0m\u001b[0m\n\u001b[0m",
      "\u001b[0;31mIndexError\u001b[0m: tuple index out of range"
     ]
    }
   ],
   "source": [
    "\n",
    "pulT = []\n",
    "pulseoxR.shape[1]"
   ]
  },
  {
   "cell_type": "code",
   "execution_count": 26,
   "metadata": {},
   "outputs": [
    {
     "data": {
      "image/png": "[encoded data removed]",
      "text/plain": [
       "<Figure size 432x288 with 1 Axes>"
      ]
     },
     "metadata": {
      "needs_background": "light"
     },
     "output_type": "display_data"
    }
   ],
   "source": [
    "pulR = []\n",
    "for i in range(pulseoxR.shape[0]):\n",
    "    pulR.append(pulseoxR[i][0][0])\n",
    "\n",
    "plt.plot(np.array(pulR[7000:8000]))\n",
    "\n",
    "pulR = np.array(pulR)"
   ]
  },
  {
   "cell_type": "code",
   "execution_count": 27,
   "metadata": {},
   "outputs": [
    {
     "ename": "NameError",
     "evalue": "name 'pul' is not defined",
     "output_type": "error",
     "traceback": [
      "\u001b[0;31m---------------------------------------------------------------------------\u001b[0m",
      "\u001b[0;31mNameError\u001b[0m                                 Traceback (most recent call last)",
      "\u001b[0;32m<ipython-input-27-08550e5a1db5>\u001b[0m in \u001b[0;36m<module>\u001b[0;34m\u001b[0m\n\u001b[0;32m----> 1\u001b[0;31m \u001b[0mplt\u001b[0m\u001b[0;34m.\u001b[0m\u001b[0mplot\u001b[0m\u001b[0;34m(\u001b[0m\u001b[0mpul\u001b[0m\u001b[0;34m[\u001b[0m\u001b[0;36m1000\u001b[0m\u001b[0;34m:\u001b[0m\u001b[0;36m2000\u001b[0m\u001b[0;34m]\u001b[0m\u001b[0;34m)\u001b[0m\u001b[0;34m\u001b[0m\u001b[0;34m\u001b[0m\u001b[0m\n\u001b[0m",
      "\u001b[0;31mNameError\u001b[0m: name 'pul' is not defined"
     ]
    }
   ],
   "source": [
    "plt.plot(pul[1000:2000])"
   ]
  },
  {
   "cell_type": "code",
   "execution_count": 28,
   "metadata": {},
   "outputs": [
    {
     "name": "stdout",
     "output_type": "stream",
     "text": [
      "/data/E_drive/Dataset/Merl_Tim/Subject1_still\n"
     ]
    }
   ],
   "source": [
    "cd ../../../Merl_Tim/Subject1_still"
   ]
  },
  {
   "cell_type": "code",
   "execution_count": 29,
   "metadata": {},
   "outputs": [
    {
     "name": "stdout",
     "output_type": "stream",
     "text": [
      "\u001b[0m\u001b[01;34mIR\u001b[0m/  \u001b[01;34mPulseOX\u001b[0m/  \u001b[01;34mRGB_demosaiced\u001b[0m/  \u001b[01;34mRGB_raw\u001b[0m/\r\n"
     ]
    }
   ],
   "source": [
    "ls"
   ]
  },
  {
   "cell_type": "code",
   "execution_count": 30,
   "metadata": {},
   "outputs": [],
   "source": [
    "img1= cv2.imread(\"IR/Frame00000.pgm\")\n",
    "iD_ir = \"IR\"\n",
    "iD_rgb = \"RGB_demosaiced\"\n",
    "dataPath =  os.path.join(iD_ir, '*.pgm')\n",
    "files = glob.glob(dataPath)"
   ]
  },
  {
   "cell_type": "code",
   "execution_count": 31,
   "metadata": {},
   "outputs": [],
   "source": [
    "data = []\n",
    "\n",
    "for f1 in files:\n",
    "    img = cv2.resize(cv2.imread(f1)[:,:,1], (50,50))\n",
    "    img = img[:,:, np.newaxis]\n",
    "    data.append(img)"
   ]
  },
  {
   "cell_type": "code",
   "execution_count": 32,
   "metadata": {},
   "outputs": [],
   "source": [
    "data = np.array(data)"
   ]
  },
  {
   "cell_type": "code",
   "execution_count": 33,
   "metadata": {},
   "outputs": [
    {
     "name": "stdout",
     "output_type": "stream",
     "text": [
      "(5386, 50, 50, 1)\n",
      "(10703,)\n"
     ]
    },
    {
     "data": {
      "text/plain": [
       "5351"
      ]
     },
     "execution_count": 33,
     "metadata": {},
     "output_type": "execute_result"
    }
   ],
   "source": [
    "print(data.shape)\n",
    "print(pulR.shape)\n",
    "10703//2"
   ]
  },
  {
   "cell_type": "code",
   "execution_count": 249,
   "metadata": {},
   "outputs": [
    {
     "data": {
      "image/png": "[encoded data removed]",
      "text/plain": [
       "<Figure size 432x288 with 1 Axes>"
      ]
     },
     "metadata": {
      "needs_background": "light"
     },
     "output_type": "display_data"
    }
   ],
   "source": [
    "trX1 = np.reshape(data[25:65,:,:,0], [40,50,50])\n",
    "trX1 = np.moveaxis(trX1, 0,-1)\n",
    "\n",
    "plt.imshow(trX1[:,:,0])\n",
    "\n"
   ]
  },
  {
   "cell_type": "code",
   "execution_count": 36,
   "metadata": {},
   "outputs": [
    {
     "data": {
      "text/plain": [
       "<matplotlib.image.AxesImage at 0x7fd7c47a90d0>"
      ]
     },
     "execution_count": 36,
     "metadata": {},
     "output_type": "execute_result"
    },
    {
     "data": {
      "image/png": "[encoded data removed]",
      "text/plain": [
       "<Figure size 432x288 with 1 Axes>"
      ]
     },
     "metadata": {
      "needs_background": "light"
     },
     "output_type": "display_data"
    }
   ],
   "source": [
    "gc =cv2.imread(files[0])[:,:,1]\n",
    "gc = gc[:,:,np.newaxis]\n",
    "gc.shape\n",
    "plt.imshow(gc[:,:,0])"
   ]
  },
  {
   "cell_type": "code",
   "execution_count": 37,
   "metadata": {},
   "outputs": [
    {
     "data": {
      "text/plain": [
       "[<matplotlib.lines.Line2D at 0x7fd7c476f9d0>]"
      ]
     },
     "execution_count": 37,
     "metadata": {},
     "output_type": "execute_result"
    },
    {
     "data": {
      "image/png": "[encoded data removed]",
      "text/plain": [
       "<Figure size 432x288 with 1 Axes>"
      ]
     },
     "metadata": {
      "needs_background": "light"
     },
     "output_type": "display_data"
    }
   ],
   "source": [
    "pulR.shape\n",
    "plt.plot(pulR[0:2000])"
   ]
  },
  {
   "cell_type": "code",
   "execution_count": 229,
   "metadata": {},
   "outputs": [],
   "source": [
    "import random\n",
    "from random import seed, randint\n",
    "random.seed(1)"
   ]
  },
  {
   "cell_type": "code",
   "execution_count": 250,
   "metadata": {},
   "outputs": [],
   "source": [
    "rv = [randint(0,5300) for _ in range(10000)]\n",
    "randint(0,5350)\n",
    "rv =  np.array(rv)\n",
    "pulR = np.reshape(pulR, [10703,1])"
   ]
  },
  {
   "cell_type": "code",
   "execution_count": 251,
   "metadata": {},
   "outputs": [],
   "source": [
    "trainX = []\n",
    "#trainY = np.zeros([200,80])\n",
    "trainY = []\n",
    "\n",
    "\n",
    "for j,i in enumerate(rv):\n",
    "    img = np.reshape(data[i:i+40,:,:,0], [40,50,50])\n",
    "    img = np.moveaxis(img, 0,-1)\n",
    "    trainX.append(img)\n",
    "    ppg = pulR[2*i: 2*i+80,0]\n",
    "    trainY.append(ppg)\n",
    "\n",
    "\n",
    "trainX = np.array(trainX, dtype = np.float32)/255.0\n",
    "trainY = np.array(trainY, dtype = np.float32)"
   ]
  },
  {
   "cell_type": "code",
   "execution_count": 252,
   "metadata": {},
   "outputs": [
    {
     "data": {
      "text/plain": [
       "(10000, 50, 50, 40)"
      ]
     },
     "execution_count": 252,
     "metadata": {},
     "output_type": "execute_result"
    }
   ],
   "source": [
    "trainX.shape"
   ]
  },
  {
   "cell_type": "code",
   "execution_count": 297,
   "metadata": {},
   "outputs": [],
   "source": [
    "num_classes = 80 # total classes (0-9 digits).\n",
    "num_features = 50*50*40 # data features (img shape: 28*28).\n",
    "\n",
    "# Training parameters.\n",
    "learning_rate = 0.01\n",
    "training_steps = 40000\n",
    "batch_size = 16\n",
    "display_step = 50\n",
    "\n",
    "# Network parameters.\n",
    "n_hidden_1 = 128 # 1st layer number of neurons.\n",
    "n_hidden_2 = 256 # 2nd layer number of neurons."
   ]
  },
  {
   "cell_type": "code",
   "execution_count": 319,
   "metadata": {},
   "outputs": [],
   "source": [
    "from tensorflow.keras import Model, layers\n",
    "import tensorflow as tf\n",
    "import os\n",
    "os.environ['TF_FORCE_GPU_ALLOW_GROWTH'] = 'true'\n",
    "\n",
    "\n",
    "class ConvNet(Model):\n",
    "    # Set layers.\n",
    "    def __init__(self):\n",
    "        super(ConvNet, self).__init__()\n",
    "        # Convolution Layer with 32 filters and a kernel size of 5.\n",
    "        self.conv1 = layers.Conv2D(64, kernel_size=3, activation=tf.nn.relu)\n",
    "        # Max Pooling (down-sampling) with kernel size of 2 and strides of 2. \n",
    "        self.maxpool1 = layers.MaxPool2D(2, strides=2)\n",
    "\n",
    "        # Convolution Layer with 64 filters and a kernel size of 3.\n",
    "        self.conv2 = layers.Conv2D(64, kernel_size=3, activation=tf.nn.relu)\n",
    "        # Max Pooling (down-sampling) with kernel size of 2 and strides of 2. \n",
    "        self.maxpool2 = layers.MaxPool2D(2, strides=2)\n",
    "\n",
    "        # Flatten the data to a 1-D vector for the fully connected layer.\n",
    "        self.flatten = layers.Flatten()\n",
    "\n",
    "        # Fully connected layer.\n",
    "        self.fc1 = layers.Dense(1024)\n",
    "        # Apply Dropout (if is_training is False, dropout is not applied).\n",
    "        self.dropout = layers.Dropout(rate=0.5)\n",
    "        \n",
    "        self.fc2 = layers.Dense(1024)\n",
    "        # Apply Dropout (if is_training is False, dropout is not applied).\n",
    "        self.dropout1 = layers.Dropout(rate=0.5)\n",
    "\n",
    "        # Output layer, class prediction.\n",
    "        self.out = layers.Dense(num_classes)\n",
    "\n",
    "    # Set forward pass.\n",
    "    def call(self, x, is_training=False):\n",
    "        x = tf.reshape(x, [-1, 50, 50, 40])\n",
    "        x = self.conv1(x)\n",
    "        x = self.maxpool1(x)\n",
    "        x = self.conv2(x)\n",
    "        x = self.maxpool2(x)\n",
    "        x = self.flatten(x)\n",
    "        x = self.fc1(x)\n",
    "        x = self.dropout(x, training=is_training)\n",
    "        x = self.fc2(x)\n",
    "        x = self.dropout1(x, training=is_training)\n",
    "        x = self.out(x)\n",
    "\n",
    "        return x\n"
   ]
  },
  {
   "cell_type": "code",
   "execution_count": 320,
   "metadata": {},
   "outputs": [
    {
     "data": {
      "text/plain": [
       "numpy.float32"
      ]
     },
     "execution_count": 320,
     "metadata": {},
     "output_type": "execute_result"
    }
   ],
   "source": [
    "type(trainY[0,0])"
   ]
  },
  {
   "cell_type": "code",
   "execution_count": 321,
   "metadata": {},
   "outputs": [],
   "source": [
    "from sklearn.model_selection import train_test_split"
   ]
  },
  {
   "cell_type": "code",
   "execution_count": 322,
   "metadata": {},
   "outputs": [],
   "source": [
    "trX, teX, trY, teY = train_test_split(trainX , trainY, test_size = .1, random_state = 42)"
   ]
  },
  {
   "cell_type": "code",
   "execution_count": 337,
   "metadata": {},
   "outputs": [],
   "source": [
    "trY =  trY/trY.max()"
   ]
  },
  {
   "cell_type": "code",
   "execution_count": 338,
   "metadata": {},
   "outputs": [],
   "source": [
    "train_data = tf.data.Dataset.from_tensor_slices((trX, trY))\n",
    "train_data = train_data.repeat().shuffle(1).batch(batch_size).prefetch(1)"
   ]
  },
  {
   "cell_type": "code",
   "execution_count": 339,
   "metadata": {},
   "outputs": [],
   "source": [
    "def RootMeanSquareLoss(x,y):\n",
    "    y = tf.cast(y, tf.float32)\n",
    "    loss = tf.keras.losses.MSE(y_true = y, y_pred =x)\n",
    "    return tf.reduce_mean(loss) "
   ]
  },
  {
   "cell_type": "code",
   "execution_count": 340,
   "metadata": {},
   "outputs": [
    {
     "data": {
      "text/plain": [
       "<tf.Tensor: shape=(), dtype=float32, numpy=1.5>"
      ]
     },
     "execution_count": 340,
     "metadata": {},
     "output_type": "execute_result"
    }
   ],
   "source": [
    "x = tf.Variable([[1.0,2.0],[2.0,3.0],[2.0,2]])\n",
    "y = tf.Variable([[1.0,2.0],[2.0,0.0],[2.0,2.0]])\n",
    "RootMeanSquareLoss(x,y)"
   ]
  },
  {
   "cell_type": "code",
   "execution_count": 341,
   "metadata": {},
   "outputs": [],
   "source": [
    "optimizer = tf.optimizers.SGD(learning_rate)"
   ]
  },
  {
   "cell_type": "code",
   "execution_count": 342,
   "metadata": {},
   "outputs": [],
   "source": [
    "def run_optimization(neural_net, x,y):    \n",
    "    with tf.GradientTape() as g:\n",
    "        pred =  neural_net(x, is_training = True)\n",
    "        loss =  RootMeanSquareLoss(pred, y)\n",
    "        \n",
    "    trainable_variables =  neural_net.trainable_variables\n",
    "    \n",
    "    gradients =  g.gradient(loss, trainable_variables)\n",
    "    \n",
    "    optimizer.apply_gradients(zip(gradients, trainable_variables))"
   ]
  },
  {
   "cell_type": "code",
   "execution_count": 343,
   "metadata": {},
   "outputs": [],
   "source": [
    "def train_nn(neural_net, train_data):\n",
    "        \n",
    "    for step, (batch_x, batch_y) in enumerate(train_data.take(training_steps), 1):     \n",
    "        run_optimization(neural_net, batch_x, batch_y)\n",
    "\n",
    "        if step % display_step == 0:\n",
    "            pred = neural_net(batch_x, is_training=True)\n",
    "            loss = RootMeanSquareLoss(pred, batch_y)\n",
    "            print(\"step: %i, loss: %f\" % (step, loss))"
   ]
  },
  {
   "cell_type": "code",
   "execution_count": 344,
   "metadata": {},
   "outputs": [
    {
     "name": "stdout",
     "output_type": "stream",
     "text": [
      "step: 50, loss: 0.085012\n",
      "step: 100, loss: 0.080802\n",
      "step: 150, loss: 0.064379\n",
      "step: 200, loss: 0.064095\n",
      "step: 250, loss: 0.066781\n",
      "step: 300, loss: 0.064764\n",
      "step: 350, loss: 0.056113\n",
      "step: 400, loss: 0.053170\n",
      "step: 450, loss: 0.057308\n",
      "step: 500, loss: 0.051357\n",
      "step: 550, loss: 0.061178\n",
      "step: 600, loss: 0.057759\n",
      "step: 650, loss: 0.057869\n",
      "step: 700, loss: 0.048435\n",
      "step: 750, loss: 0.051150\n",
      "step: 800, loss: 0.057431\n",
      "step: 850, loss: 0.053405\n",
      "step: 900, loss: 0.053057\n",
      "step: 950, loss: 0.052023\n",
      "step: 1000, loss: 0.053816\n",
      "step: 1050, loss: 0.056043\n",
      "step: 1100, loss: 0.045591\n",
      "step: 1150, loss: 0.052048\n",
      "step: 1200, loss: 0.049714\n",
      "step: 1250, loss: 0.051641\n",
      "step: 1300, loss: 0.049006\n",
      "step: 1350, loss: 0.047631\n",
      "step: 1400, loss: 0.049526\n",
      "step: 1450, loss: 0.047508\n",
      "step: 1500, loss: 0.048970\n",
      "step: 1550, loss: 0.046983\n",
      "step: 1600, loss: 0.053624\n",
      "step: 1650, loss: 0.053401\n",
      "step: 1700, loss: 0.040421\n",
      "step: 1750, loss: 0.046883\n",
      "step: 1800, loss: 0.045918\n",
      "step: 1850, loss: 0.052807\n",
      "step: 1900, loss: 0.048826\n",
      "step: 1950, loss: 0.046585\n",
      "step: 2000, loss: 0.048200\n",
      "step: 2050, loss: 0.044668\n",
      "step: 2100, loss: 0.047134\n",
      "step: 2150, loss: 0.046546\n",
      "step: 2200, loss: 0.043847\n",
      "step: 2250, loss: 0.048562\n",
      "step: 2300, loss: 0.042719\n",
      "step: 2350, loss: 0.046303\n",
      "step: 2400, loss: 0.045616\n",
      "step: 2450, loss: 0.043582\n",
      "step: 2500, loss: 0.048545\n",
      "step: 2550, loss: 0.048907\n",
      "step: 2600, loss: 0.044275\n",
      "step: 2650, loss: 0.043956\n",
      "step: 2700, loss: 0.042239\n",
      "step: 2750, loss: 0.040541\n",
      "step: 2800, loss: 0.051131\n",
      "step: 2850, loss: 0.049390\n",
      "step: 2900, loss: 0.047707\n",
      "step: 2950, loss: 0.041117\n",
      "step: 3000, loss: 0.043938\n",
      "step: 3050, loss: 0.049356\n",
      "step: 3100, loss: 0.044587\n",
      "step: 3150, loss: 0.046182\n",
      "step: 3200, loss: 0.047923\n",
      "step: 3250, loss: 0.045440\n",
      "step: 3300, loss: 0.047716\n",
      "step: 3350, loss: 0.039721\n",
      "step: 3400, loss: 0.044052\n",
      "step: 3450, loss: 0.044858\n",
      "step: 3500, loss: 0.048150\n",
      "step: 3550, loss: 0.044391\n",
      "step: 3600, loss: 0.040715\n",
      "step: 3650, loss: 0.044300\n",
      "step: 3700, loss: 0.043352\n",
      "step: 3750, loss: 0.042774\n",
      "step: 3800, loss: 0.042821\n",
      "step: 3850, loss: 0.046098\n",
      "step: 3900, loss: 0.047101\n",
      "step: 3950, loss: 0.036427\n",
      "step: 4000, loss: 0.042428\n",
      "step: 4050, loss: 0.041884\n",
      "step: 4100, loss: 0.047589\n",
      "step: 4150, loss: 0.042785\n",
      "step: 4200, loss: 0.045313\n",
      "step: 4250, loss: 0.046776\n",
      "step: 4300, loss: 0.041086\n",
      "step: 4350, loss: 0.040913\n",
      "step: 4400, loss: 0.044668\n",
      "step: 4450, loss: 0.041719\n",
      "step: 4500, loss: 0.046875\n",
      "step: 4550, loss: 0.041114\n",
      "step: 4600, loss: 0.043455\n",
      "step: 4650, loss: 0.040822\n",
      "step: 4700, loss: 0.040678\n",
      "step: 4750, loss: 0.044981\n",
      "step: 4800, loss: 0.046457\n",
      "step: 4850, loss: 0.040970\n",
      "step: 4900, loss: 0.039536\n",
      "step: 4950, loss: 0.041341\n",
      "step: 5000, loss: 0.037873\n",
      "step: 5050, loss: 0.047666\n",
      "step: 5100, loss: 0.042161\n",
      "step: 5150, loss: 0.045850\n",
      "step: 5200, loss: 0.037111\n",
      "step: 5250, loss: 0.041432\n",
      "step: 5300, loss: 0.046255\n",
      "step: 5350, loss: 0.042096\n",
      "step: 5400, loss: 0.042355\n",
      "step: 5450, loss: 0.041762\n",
      "step: 5500, loss: 0.041206\n",
      "step: 5550, loss: 0.044042\n",
      "step: 5600, loss: 0.039895\n",
      "step: 5650, loss: 0.042652\n",
      "step: 5700, loss: 0.042882\n",
      "step: 5750, loss: 0.044334\n",
      "step: 5800, loss: 0.039147\n",
      "step: 5850, loss: 0.039424\n",
      "step: 5900, loss: 0.041819\n",
      "step: 5950, loss: 0.038029\n",
      "step: 6000, loss: 0.040480\n",
      "step: 6050, loss: 0.039066\n",
      "step: 6100, loss: 0.046548\n",
      "step: 6150, loss: 0.042973\n",
      "step: 6200, loss: 0.034210\n",
      "step: 6250, loss: 0.041698\n",
      "step: 6300, loss: 0.039732\n",
      "step: 6350, loss: 0.046319\n",
      "step: 6400, loss: 0.042807\n",
      "step: 6450, loss: 0.041589\n",
      "step: 6500, loss: 0.045016\n",
      "step: 6550, loss: 0.040307\n",
      "step: 6600, loss: 0.039472\n",
      "step: 6650, loss: 0.041489\n",
      "step: 6700, loss: 0.039764\n",
      "step: 6750, loss: 0.044447\n",
      "step: 6800, loss: 0.041807\n",
      "step: 6850, loss: 0.039985\n",
      "step: 6900, loss: 0.040725\n",
      "step: 6950, loss: 0.038483\n",
      "step: 7000, loss: 0.043121\n",
      "step: 7050, loss: 0.044512\n",
      "step: 7100, loss: 0.037843\n",
      "step: 7150, loss: 0.037481\n",
      "step: 7200, loss: 0.038944\n",
      "step: 7250, loss: 0.036057\n",
      "step: 7300, loss: 0.044598\n",
      "step: 7350, loss: 0.042453\n",
      "step: 7400, loss: 0.043310\n",
      "step: 7450, loss: 0.038153\n",
      "step: 7500, loss: 0.040396\n",
      "step: 7550, loss: 0.044228\n",
      "step: 7600, loss: 0.043282\n",
      "step: 7650, loss: 0.041103\n",
      "step: 7700, loss: 0.041241\n",
      "step: 7750, loss: 0.040962\n",
      "step: 7800, loss: 0.044780\n",
      "step: 7850, loss: 0.037564\n",
      "step: 7900, loss: 0.041646\n",
      "step: 7950, loss: 0.042063\n",
      "step: 8000, loss: 0.043783\n",
      "step: 8050, loss: 0.039392\n",
      "step: 8100, loss: 0.038459\n",
      "step: 8150, loss: 0.039969\n",
      "step: 8200, loss: 0.039027\n",
      "step: 8250, loss: 0.037463\n",
      "step: 8300, loss: 0.037902\n",
      "step: 8350, loss: 0.042934\n",
      "step: 8400, loss: 0.042068\n",
      "step: 8450, loss: 0.032763\n",
      "step: 8500, loss: 0.039686\n",
      "step: 8550, loss: 0.040459\n",
      "step: 8600, loss: 0.044357\n",
      "step: 8650, loss: 0.040347\n",
      "step: 8700, loss: 0.041049\n",
      "step: 8750, loss: 0.044121\n",
      "step: 8800, loss: 0.037860\n",
      "step: 8850, loss: 0.040077\n",
      "step: 8900, loss: 0.040175\n",
      "step: 8950, loss: 0.037513\n",
      "step: 9000, loss: 0.042227\n",
      "step: 9050, loss: 0.038985\n",
      "step: 9100, loss: 0.040733\n",
      "step: 9150, loss: 0.040149\n",
      "step: 9200, loss: 0.036154\n",
      "step: 9250, loss: 0.043377\n",
      "step: 9300, loss: 0.044013\n",
      "step: 9350, loss: 0.038309\n",
      "step: 9400, loss: 0.037390\n",
      "step: 9450, loss: 0.037742\n",
      "step: 9500, loss: 0.034284\n",
      "step: 9550, loss: 0.042212\n",
      "step: 9600, loss: 0.041298\n",
      "step: 9650, loss: 0.041965\n",
      "step: 9700, loss: 0.035819\n",
      "step: 9750, loss: 0.038632\n",
      "step: 9800, loss: 0.043908\n",
      "step: 9850, loss: 0.040060\n",
      "step: 9900, loss: 0.041493\n",
      "step: 9950, loss: 0.040382\n",
      "step: 10000, loss: 0.041669\n",
      "step: 10050, loss: 0.044143\n",
      "step: 10100, loss: 0.038068\n",
      "step: 10150, loss: 0.042575\n",
      "step: 10200, loss: 0.041778\n",
      "step: 10250, loss: 0.042866\n",
      "step: 10300, loss: 0.037166\n",
      "step: 10350, loss: 0.038201\n",
      "step: 10400, loss: 0.038725\n",
      "step: 10450, loss: 0.037795\n",
      "step: 10500, loss: 0.038140\n",
      "step: 10550, loss: 0.036348\n",
      "step: 10600, loss: 0.044129\n",
      "step: 10650, loss: 0.040924\n",
      "step: 10700, loss: 0.033382\n",
      "step: 10750, loss: 0.039388\n",
      "step: 10800, loss: 0.037922\n",
      "step: 10850, loss: 0.044466\n",
      "step: 10900, loss: 0.040481\n",
      "step: 10950, loss: 0.040924\n",
      "step: 11000, loss: 0.042943\n",
      "step: 11050, loss: 0.038364\n",
      "step: 11100, loss: 0.039792\n",
      "step: 11150, loss: 0.039706\n",
      "step: 11200, loss: 0.038329\n",
      "step: 11250, loss: 0.042877\n",
      "step: 11300, loss: 0.038520\n",
      "step: 11350, loss: 0.040203\n",
      "step: 11400, loss: 0.039713\n",
      "step: 11450, loss: 0.036895\n",
      "step: 11500, loss: 0.041891\n",
      "step: 11550, loss: 0.044416\n",
      "step: 11600, loss: 0.037250\n",
      "step: 11650, loss: 0.037615\n",
      "step: 11700, loss: 0.036916\n",
      "step: 11750, loss: 0.034446\n",
      "step: 11800, loss: 0.043296\n",
      "step: 11850, loss: 0.040805\n",
      "step: 11900, loss: 0.041459\n",
      "step: 11950, loss: 0.035757\n",
      "step: 12000, loss: 0.038006\n",
      "step: 12050, loss: 0.045139\n",
      "step: 12100, loss: 0.039288\n",
      "step: 12150, loss: 0.040706\n",
      "step: 12200, loss: 0.040430\n",
      "step: 12250, loss: 0.040573\n",
      "step: 12300, loss: 0.042897\n",
      "step: 12350, loss: 0.036364\n",
      "step: 12400, loss: 0.041632\n",
      "step: 12450, loss: 0.043299\n",
      "step: 12500, loss: 0.041755\n",
      "step: 12550, loss: 0.037736\n",
      "step: 12600, loss: 0.039333\n",
      "step: 12650, loss: 0.037826\n",
      "step: 12700, loss: 0.036299\n",
      "step: 12750, loss: 0.036768\n",
      "step: 12800, loss: 0.036810\n",
      "step: 12850, loss: 0.042958\n",
      "step: 12900, loss: 0.040191\n",
      "step: 12950, loss: 0.032577\n",
      "step: 13000, loss: 0.038358\n",
      "step: 13050, loss: 0.037338\n",
      "step: 13100, loss: 0.045392\n",
      "step: 13150, loss: 0.040020\n",
      "step: 13200, loss: 0.040020\n",
      "step: 13250, loss: 0.042919\n",
      "step: 13300, loss: 0.037773\n",
      "step: 13350, loss: 0.038091\n",
      "step: 13400, loss: 0.038006\n",
      "step: 13450, loss: 0.036413\n",
      "step: 13500, loss: 0.041338\n",
      "step: 13550, loss: 0.036931\n",
      "step: 13600, loss: 0.037620\n",
      "step: 13650, loss: 0.039709\n",
      "step: 13700, loss: 0.036007\n",
      "step: 13750, loss: 0.041812\n",
      "step: 13800, loss: 0.041847\n",
      "step: 13850, loss: 0.037204\n",
      "step: 13900, loss: 0.036224\n",
      "step: 13950, loss: 0.036153\n",
      "step: 14000, loss: 0.033937\n",
      "step: 14050, loss: 0.041404\n",
      "step: 14100, loss: 0.041894\n",
      "step: 14150, loss: 0.041140\n",
      "step: 14200, loss: 0.035792\n",
      "step: 14250, loss: 0.037318\n",
      "step: 14300, loss: 0.043668\n",
      "step: 14350, loss: 0.040304\n",
      "step: 14400, loss: 0.039422\n",
      "step: 14450, loss: 0.039288\n",
      "step: 14500, loss: 0.038817\n",
      "step: 14550, loss: 0.042734\n",
      "step: 14600, loss: 0.036932\n",
      "step: 14650, loss: 0.041836\n",
      "step: 14700, loss: 0.042189\n",
      "step: 14750, loss: 0.041548\n",
      "step: 14800, loss: 0.037710\n",
      "step: 14850, loss: 0.036393\n",
      "step: 14900, loss: 0.038500\n",
      "step: 14950, loss: 0.036788\n",
      "step: 15000, loss: 0.037203\n",
      "step: 15050, loss: 0.036867\n"
     ]
    },
    {
     "name": "stdout",
     "output_type": "stream",
     "text": [
      "step: 15100, loss: 0.042212\n",
      "step: 15150, loss: 0.039464\n",
      "step: 15200, loss: 0.032088\n",
      "step: 15250, loss: 0.039014\n",
      "step: 15300, loss: 0.037111\n",
      "step: 15350, loss: 0.045560\n",
      "step: 15400, loss: 0.038234\n",
      "step: 15450, loss: 0.039838\n",
      "step: 15500, loss: 0.041444\n",
      "step: 15550, loss: 0.038089\n",
      "step: 15600, loss: 0.038860\n",
      "step: 15650, loss: 0.038603\n",
      "step: 15700, loss: 0.036895\n",
      "step: 15750, loss: 0.042310\n",
      "step: 15800, loss: 0.036979\n",
      "step: 15850, loss: 0.037600\n",
      "step: 15900, loss: 0.040544\n",
      "step: 15950, loss: 0.036894\n",
      "step: 16000, loss: 0.041643\n",
      "step: 16050, loss: 0.041070\n",
      "step: 16100, loss: 0.035817\n",
      "step: 16150, loss: 0.035215\n",
      "step: 16200, loss: 0.034894\n",
      "step: 16250, loss: 0.033213\n",
      "step: 16300, loss: 0.041853\n",
      "step: 16350, loss: 0.040726\n",
      "step: 16400, loss: 0.040368\n",
      "step: 16450, loss: 0.034500\n",
      "step: 16500, loss: 0.037424\n",
      "step: 16550, loss: 0.043674\n",
      "step: 16600, loss: 0.040942\n",
      "step: 16650, loss: 0.039863\n",
      "step: 16700, loss: 0.039056\n",
      "step: 16750, loss: 0.039898\n",
      "step: 16800, loss: 0.043059\n",
      "step: 16850, loss: 0.036825\n",
      "step: 16900, loss: 0.038344\n",
      "step: 16950, loss: 0.041366\n",
      "step: 17000, loss: 0.041676\n",
      "step: 17050, loss: 0.036385\n",
      "step: 17100, loss: 0.037036\n",
      "step: 17150, loss: 0.036642\n",
      "step: 17200, loss: 0.036577\n",
      "step: 17250, loss: 0.037546\n",
      "step: 17300, loss: 0.036869\n",
      "step: 17350, loss: 0.043035\n",
      "step: 17400, loss: 0.039638\n",
      "step: 17450, loss: 0.031533\n",
      "step: 17500, loss: 0.037827\n",
      "step: 17550, loss: 0.037109\n",
      "step: 17600, loss: 0.043955\n",
      "step: 17650, loss: 0.039062\n",
      "step: 17700, loss: 0.039646\n",
      "step: 17750, loss: 0.042535\n",
      "step: 17800, loss: 0.037046\n",
      "step: 17850, loss: 0.039166\n",
      "step: 17900, loss: 0.038229\n",
      "step: 17950, loss: 0.036944\n",
      "step: 18000, loss: 0.041119\n",
      "step: 18050, loss: 0.037776\n",
      "step: 18100, loss: 0.038154\n",
      "step: 18150, loss: 0.038807\n",
      "step: 18200, loss: 0.035289\n",
      "step: 18250, loss: 0.040923\n",
      "step: 18300, loss: 0.041273\n",
      "step: 18350, loss: 0.035995\n",
      "step: 18400, loss: 0.036674\n",
      "step: 18450, loss: 0.035842\n",
      "step: 18500, loss: 0.033217\n",
      "step: 18550, loss: 0.040259\n",
      "step: 18600, loss: 0.038277\n",
      "step: 18650, loss: 0.040233\n",
      "step: 18700, loss: 0.034080\n",
      "step: 18750, loss: 0.036518\n",
      "step: 18800, loss: 0.043106\n",
      "step: 18850, loss: 0.038449\n",
      "step: 18900, loss: 0.039065\n",
      "step: 18950, loss: 0.037298\n",
      "step: 19000, loss: 0.039345\n",
      "step: 19050, loss: 0.042381\n",
      "step: 19100, loss: 0.034752\n",
      "step: 19150, loss: 0.040586\n",
      "step: 19200, loss: 0.041127\n",
      "step: 19250, loss: 0.040391\n",
      "step: 19300, loss: 0.037447\n",
      "step: 19350, loss: 0.035870\n",
      "step: 19400, loss: 0.036953\n",
      "step: 19450, loss: 0.036387\n",
      "step: 19500, loss: 0.036578\n",
      "step: 19550, loss: 0.036260\n",
      "step: 19600, loss: 0.042158\n",
      "step: 19650, loss: 0.040071\n",
      "step: 19700, loss: 0.032186\n",
      "step: 19750, loss: 0.038241\n",
      "step: 19800, loss: 0.037127\n",
      "step: 19850, loss: 0.043480\n",
      "step: 19900, loss: 0.038466\n",
      "step: 19950, loss: 0.039770\n",
      "step: 20000, loss: 0.041266\n",
      "step: 20050, loss: 0.036738\n",
      "step: 20100, loss: 0.038102\n",
      "step: 20150, loss: 0.038294\n",
      "step: 20200, loss: 0.037697\n",
      "step: 20250, loss: 0.040857\n",
      "step: 20300, loss: 0.036789\n",
      "step: 20350, loss: 0.037873\n",
      "step: 20400, loss: 0.038926\n",
      "step: 20450, loss: 0.035398\n",
      "step: 20500, loss: 0.041120\n",
      "step: 20550, loss: 0.041073\n",
      "step: 20600, loss: 0.035173\n",
      "step: 20650, loss: 0.035682\n",
      "step: 20700, loss: 0.036119\n",
      "step: 20750, loss: 0.033247\n",
      "step: 20800, loss: 0.042021\n",
      "step: 20850, loss: 0.039456\n",
      "step: 20900, loss: 0.041208\n",
      "step: 20950, loss: 0.034716\n",
      "step: 21000, loss: 0.036979\n",
      "step: 21050, loss: 0.043402\n",
      "step: 21100, loss: 0.039075\n",
      "step: 21150, loss: 0.039737\n",
      "step: 21200, loss: 0.037805\n",
      "step: 21250, loss: 0.038908\n",
      "step: 21300, loss: 0.042336\n",
      "step: 21350, loss: 0.036316\n",
      "step: 21400, loss: 0.040757\n",
      "step: 21450, loss: 0.040381\n",
      "step: 21500, loss: 0.041456\n",
      "step: 21550, loss: 0.036324\n",
      "step: 21600, loss: 0.036233\n",
      "step: 21650, loss: 0.038245\n",
      "step: 21700, loss: 0.036061\n",
      "step: 21750, loss: 0.036320\n",
      "step: 21800, loss: 0.036770\n",
      "step: 21850, loss: 0.041421\n",
      "step: 21900, loss: 0.039086\n",
      "step: 21950, loss: 0.031737\n",
      "step: 22000, loss: 0.037320\n",
      "step: 22050, loss: 0.037251\n",
      "step: 22100, loss: 0.043217\n",
      "step: 22150, loss: 0.036978\n",
      "step: 22200, loss: 0.039356\n",
      "step: 22250, loss: 0.040800\n",
      "step: 22300, loss: 0.035923\n",
      "step: 22350, loss: 0.037539\n",
      "step: 22400, loss: 0.038244\n",
      "step: 22450, loss: 0.037175\n",
      "step: 22500, loss: 0.040743\n",
      "step: 22550, loss: 0.037940\n",
      "step: 22600, loss: 0.038217\n",
      "step: 22650, loss: 0.037742\n",
      "step: 22700, loss: 0.035783\n",
      "step: 22750, loss: 0.040091\n",
      "step: 22800, loss: 0.041051\n",
      "step: 22850, loss: 0.035506\n",
      "step: 22900, loss: 0.035341\n",
      "step: 22950, loss: 0.035549\n",
      "step: 23000, loss: 0.032518\n",
      "step: 23050, loss: 0.040713\n",
      "step: 23100, loss: 0.038910\n",
      "step: 23150, loss: 0.039998\n",
      "step: 23200, loss: 0.033894\n",
      "step: 23250, loss: 0.036556\n",
      "step: 23300, loss: 0.042261\n",
      "step: 23350, loss: 0.038908\n",
      "step: 23400, loss: 0.038985\n",
      "step: 23450, loss: 0.038347\n",
      "step: 23500, loss: 0.038776\n",
      "step: 23550, loss: 0.041753\n",
      "step: 23600, loss: 0.036227\n",
      "step: 23650, loss: 0.039272\n",
      "step: 23700, loss: 0.040706\n",
      "step: 23750, loss: 0.040287\n",
      "step: 23800, loss: 0.036004\n",
      "step: 23850, loss: 0.036363\n",
      "step: 23900, loss: 0.037715\n",
      "step: 23950, loss: 0.036695\n",
      "step: 24000, loss: 0.036266\n",
      "step: 24050, loss: 0.035932\n",
      "step: 24100, loss: 0.042378\n",
      "step: 24150, loss: 0.039041\n",
      "step: 24200, loss: 0.031246\n",
      "step: 24250, loss: 0.037860\n",
      "step: 24300, loss: 0.036605\n",
      "step: 24350, loss: 0.043450\n",
      "step: 24400, loss: 0.038336\n",
      "step: 24450, loss: 0.039072\n",
      "step: 24500, loss: 0.042126\n",
      "step: 24550, loss: 0.036786\n",
      "step: 24600, loss: 0.036774\n",
      "step: 24650, loss: 0.037795\n",
      "step: 24700, loss: 0.036075\n",
      "step: 24750, loss: 0.040603\n",
      "step: 24800, loss: 0.036958\n",
      "step: 24850, loss: 0.038453\n",
      "step: 24900, loss: 0.038820\n",
      "step: 24950, loss: 0.034970\n",
      "step: 25000, loss: 0.039977\n",
      "step: 25050, loss: 0.041793\n",
      "step: 25100, loss: 0.035023\n",
      "step: 25150, loss: 0.035509\n",
      "step: 25200, loss: 0.035585\n",
      "step: 25250, loss: 0.032366\n",
      "step: 25300, loss: 0.040641\n",
      "step: 25350, loss: 0.039896\n",
      "step: 25400, loss: 0.039512\n",
      "step: 25450, loss: 0.033418\n",
      "step: 25500, loss: 0.035705\n",
      "step: 25550, loss: 0.042862\n",
      "step: 25600, loss: 0.040310\n",
      "step: 25650, loss: 0.038951\n",
      "step: 25700, loss: 0.039012\n",
      "step: 25750, loss: 0.038284\n",
      "step: 25800, loss: 0.041930\n",
      "step: 25850, loss: 0.035707\n",
      "step: 25900, loss: 0.038708\n",
      "step: 25950, loss: 0.040068\n",
      "step: 26000, loss: 0.040868\n",
      "step: 26050, loss: 0.036041\n",
      "step: 26100, loss: 0.035851\n",
      "step: 26150, loss: 0.037670\n",
      "step: 26200, loss: 0.034856\n",
      "step: 26250, loss: 0.035943\n",
      "step: 26300, loss: 0.035714\n",
      "step: 26350, loss: 0.041302\n",
      "step: 26400, loss: 0.039371\n",
      "step: 26450, loss: 0.030926\n",
      "step: 26500, loss: 0.037604\n",
      "step: 26550, loss: 0.037142\n",
      "step: 26600, loss: 0.042146\n",
      "step: 26650, loss: 0.039404\n",
      "step: 26700, loss: 0.039293\n",
      "step: 26750, loss: 0.040952\n",
      "step: 26800, loss: 0.037256\n",
      "step: 26850, loss: 0.037851\n",
      "step: 26900, loss: 0.037622\n",
      "step: 26950, loss: 0.035474\n",
      "step: 27000, loss: 0.041772\n",
      "step: 27050, loss: 0.036849\n",
      "step: 27100, loss: 0.036986\n",
      "step: 27150, loss: 0.038422\n",
      "step: 27200, loss: 0.035231\n",
      "step: 27250, loss: 0.040814\n",
      "step: 27300, loss: 0.040802\n",
      "step: 27350, loss: 0.035006\n",
      "step: 27400, loss: 0.034234\n",
      "step: 27450, loss: 0.034783\n",
      "step: 27500, loss: 0.033424\n",
      "step: 27550, loss: 0.039669\n",
      "step: 27600, loss: 0.039997\n",
      "step: 27650, loss: 0.039685\n",
      "step: 27700, loss: 0.033833\n",
      "step: 27750, loss: 0.035195\n",
      "step: 27800, loss: 0.041938\n",
      "step: 27850, loss: 0.038884\n",
      "step: 27900, loss: 0.038665\n",
      "step: 27950, loss: 0.038053\n",
      "step: 28000, loss: 0.038206\n",
      "step: 28050, loss: 0.041091\n",
      "step: 28100, loss: 0.034928\n",
      "step: 28150, loss: 0.040339\n",
      "step: 28200, loss: 0.041908\n",
      "step: 28250, loss: 0.040260\n",
      "step: 28300, loss: 0.036665\n",
      "step: 28350, loss: 0.035380\n",
      "step: 28400, loss: 0.038252\n",
      "step: 28450, loss: 0.035406\n",
      "step: 28500, loss: 0.035582\n",
      "step: 28550, loss: 0.035609\n",
      "step: 28600, loss: 0.042607\n",
      "step: 28650, loss: 0.038567\n",
      "step: 28700, loss: 0.031930\n",
      "step: 28750, loss: 0.037159\n",
      "step: 28800, loss: 0.036702\n",
      "step: 28850, loss: 0.042907\n",
      "step: 28900, loss: 0.037820\n",
      "step: 28950, loss: 0.039335\n",
      "step: 29000, loss: 0.040531\n",
      "step: 29050, loss: 0.036320\n",
      "step: 29100, loss: 0.036560\n",
      "step: 29150, loss: 0.037508\n",
      "step: 29200, loss: 0.036321\n",
      "step: 29250, loss: 0.040587\n",
      "step: 29300, loss: 0.037060\n",
      "step: 29350, loss: 0.037236\n",
      "step: 29400, loss: 0.038097\n",
      "step: 29450, loss: 0.035221\n",
      "step: 29500, loss: 0.040286\n",
      "step: 29550, loss: 0.041237\n",
      "step: 29600, loss: 0.036316\n",
      "step: 29650, loss: 0.034882\n",
      "step: 29700, loss: 0.036292\n"
     ]
    },
    {
     "name": "stdout",
     "output_type": "stream",
     "text": [
      "step: 29750, loss: 0.032638\n",
      "step: 29800, loss: 0.039577\n",
      "step: 29850, loss: 0.038612\n",
      "step: 29900, loss: 0.039256\n",
      "step: 29950, loss: 0.033989\n",
      "step: 30000, loss: 0.035841\n",
      "step: 30050, loss: 0.043194\n",
      "step: 30100, loss: 0.040791\n",
      "step: 30150, loss: 0.039119\n",
      "step: 30200, loss: 0.038603\n",
      "step: 30250, loss: 0.037985\n",
      "step: 30300, loss: 0.041489\n",
      "step: 30350, loss: 0.034768\n",
      "step: 30400, loss: 0.039165\n",
      "step: 30450, loss: 0.040572\n",
      "step: 30500, loss: 0.040704\n",
      "step: 30550, loss: 0.036973\n",
      "step: 30600, loss: 0.035217\n",
      "step: 30650, loss: 0.037432\n",
      "step: 30700, loss: 0.036267\n",
      "step: 30750, loss: 0.036704\n",
      "step: 30800, loss: 0.035390\n",
      "step: 30850, loss: 0.040750\n",
      "step: 30900, loss: 0.039304\n",
      "step: 30950, loss: 0.032550\n",
      "step: 31000, loss: 0.037290\n",
      "step: 31050, loss: 0.036572\n",
      "step: 31100, loss: 0.043292\n",
      "step: 31150, loss: 0.038687\n",
      "step: 31200, loss: 0.039168\n",
      "step: 31250, loss: 0.040625\n",
      "step: 31300, loss: 0.036275\n",
      "step: 31350, loss: 0.037190\n",
      "step: 31400, loss: 0.037494\n",
      "step: 31450, loss: 0.037866\n",
      "step: 31500, loss: 0.040676\n",
      "step: 31550, loss: 0.036126\n",
      "step: 31600, loss: 0.037047\n",
      "step: 31650, loss: 0.038737\n",
      "step: 31700, loss: 0.035354\n",
      "step: 31750, loss: 0.040321\n",
      "step: 31800, loss: 0.041523\n",
      "step: 31850, loss: 0.035486\n",
      "step: 31900, loss: 0.034550\n",
      "step: 31950, loss: 0.034397\n",
      "step: 32000, loss: 0.032484\n",
      "step: 32050, loss: 0.040047\n",
      "step: 32100, loss: 0.038616\n",
      "step: 32150, loss: 0.040453\n",
      "step: 32200, loss: 0.034001\n",
      "step: 32250, loss: 0.036106\n",
      "step: 32300, loss: 0.042428\n",
      "step: 32350, loss: 0.038437\n",
      "step: 32400, loss: 0.038581\n",
      "step: 32450, loss: 0.038971\n",
      "step: 32500, loss: 0.037517\n",
      "step: 32550, loss: 0.042094\n",
      "step: 32600, loss: 0.035246\n",
      "step: 32650, loss: 0.039983\n",
      "step: 32700, loss: 0.040887\n",
      "step: 32750, loss: 0.039805\n",
      "step: 32800, loss: 0.035987\n",
      "step: 32850, loss: 0.035478\n",
      "step: 32900, loss: 0.037022\n",
      "step: 32950, loss: 0.034599\n",
      "step: 33000, loss: 0.035789\n",
      "step: 33050, loss: 0.035218\n",
      "step: 33100, loss: 0.040707\n",
      "step: 33150, loss: 0.038809\n",
      "step: 33200, loss: 0.031705\n",
      "step: 33250, loss: 0.037811\n",
      "step: 33300, loss: 0.035784\n",
      "step: 33350, loss: 0.043407\n",
      "step: 33400, loss: 0.038004\n",
      "step: 33450, loss: 0.038391\n",
      "step: 33500, loss: 0.040779\n",
      "step: 33550, loss: 0.036492\n",
      "step: 33600, loss: 0.036953\n",
      "step: 33650, loss: 0.036940\n",
      "step: 33700, loss: 0.036532\n",
      "step: 33750, loss: 0.040928\n",
      "step: 33800, loss: 0.035748\n",
      "step: 33850, loss: 0.036628\n",
      "step: 33900, loss: 0.037980\n",
      "step: 33950, loss: 0.034971\n",
      "step: 34000, loss: 0.039926\n",
      "step: 34050, loss: 0.041289\n",
      "step: 34100, loss: 0.035174\n",
      "step: 34150, loss: 0.034284\n",
      "step: 34200, loss: 0.035107\n",
      "step: 34250, loss: 0.031906\n",
      "step: 34300, loss: 0.039967\n",
      "step: 34350, loss: 0.038737\n",
      "step: 34400, loss: 0.041005\n",
      "step: 34450, loss: 0.033622\n",
      "step: 34500, loss: 0.035567\n",
      "step: 34550, loss: 0.042313\n",
      "step: 34600, loss: 0.038460\n",
      "step: 34650, loss: 0.039330\n",
      "step: 34700, loss: 0.037578\n",
      "step: 34750, loss: 0.037464\n",
      "step: 34800, loss: 0.042463\n",
      "step: 34850, loss: 0.035701\n",
      "step: 34900, loss: 0.038931\n",
      "step: 34950, loss: 0.039789\n",
      "step: 35000, loss: 0.039722\n",
      "step: 35050, loss: 0.035578\n",
      "step: 35100, loss: 0.035475\n",
      "step: 35150, loss: 0.036842\n",
      "step: 35200, loss: 0.035559\n",
      "step: 35250, loss: 0.035353\n",
      "step: 35300, loss: 0.035363\n",
      "step: 35350, loss: 0.040620\n",
      "step: 35400, loss: 0.039887\n",
      "step: 35450, loss: 0.030601\n",
      "step: 35500, loss: 0.037086\n",
      "step: 35550, loss: 0.036699\n",
      "step: 35600, loss: 0.042681\n",
      "step: 35650, loss: 0.037762\n",
      "step: 35700, loss: 0.039270\n",
      "step: 35750, loss: 0.041408\n",
      "step: 35800, loss: 0.036505\n",
      "step: 35850, loss: 0.036876\n",
      "step: 35900, loss: 0.037007\n",
      "step: 35950, loss: 0.037081\n",
      "step: 36000, loss: 0.041393\n",
      "step: 36050, loss: 0.037317\n",
      "step: 36100, loss: 0.036484\n",
      "step: 36150, loss: 0.038526\n",
      "step: 36200, loss: 0.035276\n",
      "step: 36250, loss: 0.040414\n",
      "step: 36300, loss: 0.040757\n",
      "step: 36350, loss: 0.034501\n",
      "step: 36400, loss: 0.035440\n",
      "step: 36450, loss: 0.034791\n",
      "step: 36500, loss: 0.032651\n",
      "step: 36550, loss: 0.039866\n",
      "step: 36600, loss: 0.039047\n",
      "step: 36650, loss: 0.040545\n",
      "step: 36700, loss: 0.033249\n",
      "step: 36750, loss: 0.036427\n",
      "step: 36800, loss: 0.042147\n",
      "step: 36850, loss: 0.039750\n",
      "step: 36900, loss: 0.038509\n",
      "step: 36950, loss: 0.037051\n",
      "step: 37000, loss: 0.036936\n",
      "step: 37050, loss: 0.041676\n",
      "step: 37100, loss: 0.036392\n",
      "step: 37150, loss: 0.039161\n",
      "step: 37200, loss: 0.040207\n",
      "step: 37250, loss: 0.039343\n",
      "step: 37300, loss: 0.035666\n",
      "step: 37350, loss: 0.035482\n",
      "step: 37400, loss: 0.037304\n",
      "step: 37450, loss: 0.034497\n",
      "step: 37500, loss: 0.035429\n",
      "step: 37550, loss: 0.034831\n",
      "step: 37600, loss: 0.041729\n",
      "step: 37650, loss: 0.039247\n",
      "step: 37700, loss: 0.030517\n",
      "step: 37750, loss: 0.037406\n",
      "step: 37800, loss: 0.036313\n",
      "step: 37850, loss: 0.042617\n",
      "step: 37900, loss: 0.037915\n",
      "step: 37950, loss: 0.038910\n",
      "step: 38000, loss: 0.040391\n",
      "step: 38050, loss: 0.035466\n",
      "step: 38100, loss: 0.037570\n",
      "step: 38150, loss: 0.037523\n",
      "step: 38200, loss: 0.037606\n",
      "step: 38250, loss: 0.040071\n",
      "step: 38300, loss: 0.036531\n",
      "step: 38350, loss: 0.037231\n",
      "step: 38400, loss: 0.038814\n",
      "step: 38450, loss: 0.035257\n",
      "step: 38500, loss: 0.040030\n",
      "step: 38550, loss: 0.040804\n",
      "step: 38600, loss: 0.035263\n",
      "step: 38650, loss: 0.035139\n",
      "step: 38700, loss: 0.034369\n",
      "step: 38750, loss: 0.031854\n",
      "step: 38800, loss: 0.040132\n",
      "step: 38850, loss: 0.039540\n",
      "step: 38900, loss: 0.040072\n",
      "step: 38950, loss: 0.033631\n",
      "step: 39000, loss: 0.035440\n",
      "step: 39050, loss: 0.043037\n",
      "step: 39100, loss: 0.039755\n",
      "step: 39150, loss: 0.038785\n",
      "step: 39200, loss: 0.037642\n",
      "step: 39250, loss: 0.037609\n",
      "step: 39300, loss: 0.041419\n",
      "step: 39350, loss: 0.034600\n",
      "step: 39400, loss: 0.039534\n",
      "step: 39450, loss: 0.040271\n",
      "step: 39500, loss: 0.039850\n",
      "step: 39550, loss: 0.035464\n",
      "step: 39600, loss: 0.035890\n",
      "step: 39650, loss: 0.037934\n",
      "step: 39700, loss: 0.034889\n",
      "step: 39750, loss: 0.036172\n",
      "step: 39800, loss: 0.035082\n",
      "step: 39850, loss: 0.041278\n",
      "step: 39900, loss: 0.038984\n",
      "step: 39950, loss: 0.029919\n",
      "step: 40000, loss: 0.037130\n"
     ]
    }
   ],
   "source": [
    "neural_net = ConvNet()\n",
    "inarg = (neural_net, train_data)\n",
    "train_nn(*inarg)"
   ]
  },
  {
   "cell_type": "code",
   "execution_count": 314,
   "metadata": {},
   "outputs": [
    {
     "data": {
      "image/png": "[encoded data removed]",
      "text/plain": [
       "<Figure size 432x288 with 1 Axes>"
      ]
     },
     "metadata": {
      "needs_background": "light"
     },
     "output_type": "display_data"
    }
   ],
   "source": [
    "i = 5000 \n",
    "trX1 = np.reshape(data[i:i+40,:,:,0], [40,50,50])\n",
    "trX1 = np.moveaxis(trX1, 0,-1)\n",
    "\n",
    "gt = pulR[i*2:i*2+80]\n",
    "plt.plot(gt)\n",
    "\n",
    "trX1 = trX1/255.0"
   ]
  },
  {
   "cell_type": "code",
   "execution_count": 315,
   "metadata": {},
   "outputs": [
    {
     "data": {
      "text/plain": [
       "[<matplotlib.lines.Line2D at 0x7fd73277d910>]"
      ]
     },
     "execution_count": 315,
     "metadata": {},
     "output_type": "execute_result"
    },
    {
     "data": {
      "image/png": "[encoded data removed]",
      "text/plain": [
       "<Figure size 432x288 with 1 Axes>"
      ]
     },
     "metadata": {
      "needs_background": "light"
     },
     "output_type": "display_data"
    }
   ],
   "source": [
    "predd = neural_net(trX1) \n",
    "plt.plot(predd[0])"
   ]
  },
  {
   "cell_type": "code",
   "execution_count": 286,
   "metadata": {},
   "outputs": [
    {
     "data": {
      "text/plain": [
       "[<matplotlib.lines.Line2D at 0x7fd732df3710>]"
      ]
     },
     "execution_count": 286,
     "metadata": {},
     "output_type": "execute_result"
    },
    {
     "data": {
      "image/png": "[encoded data removed]",
      "text/plain": [
       "<Figure size 432x288 with 1 Axes>"
      ]
     },
     "metadata": {
      "needs_background": "light"
     },
     "output_type": "display_data"
    }
   ],
   "source": []
  },
  {
   "cell_type": "code",
   "execution_count": 288,
   "metadata": {},
   "outputs": [
    {
     "data": {
      "text/plain": [
       "[<matplotlib.lines.Line2D at 0x7fd7330b3c10>]"
      ]
     },
     "execution_count": 288,
     "metadata": {},
     "output_type": "execute_result"
    },
    {
     "data": {
      "image/png": "[encoded data removed]",
      "text/plain": [
       "<Figure size 432x288 with 1 Axes>"
      ]
     },
     "metadata": {
      "needs_background": "light"
     },
     "output_type": "display_data"
    }
   ],
   "source": []
  },
  {
   "cell_type": "code",
   "execution_count": null,
   "metadata": {},
   "outputs": [],
   "source": []
  }
 ],
 "metadata": {
  "kernelspec": {
   "display_name": "Python 3",
   "language": "python",
   "name": "python3"
  },
  "language_info": {
   "codemirror_mode": {
    "name": "ipython",
    "version": 3
   },
   "file_extension": ".py",
   "mimetype": "text/x-python",
   "name": "python",
   "nbconvert_exporter": "python",
   "pygments_lexer": "ipython3",
   "version": "3.7.7"
  }
 },
 "nbformat": 4,
 "nbformat_minor": 4
}
