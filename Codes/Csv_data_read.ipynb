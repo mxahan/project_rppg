{
 "cells": [
  {
   "cell_type": "code",
   "execution_count": 1,
   "metadata": {},
   "outputs": [
    {
     "name": "stdout",
     "output_type": "stream",
     "text": [
      "/data/E_drive/Dataset/Data-VPD-github1/data/Video\n"
     ]
    }
   ],
   "source": [
    "cd ../../../../E_drive/Dataset/Data-VPD-github1/data/Video/"
   ]
  },
  {
   "cell_type": "code",
   "execution_count": 19,
   "metadata": {},
   "outputs": [
    {
     "data": {
      "text/plain": [
       "'/data/E_drive/Dataset/Data-VPD-github1/data/Video'"
      ]
     },
     "execution_count": 19,
     "metadata": {},
     "output_type": "execute_result"
    }
   ],
   "source": [
    "import os\n",
    "import matplotlib.pyplot as plt\n",
    "os.getcwd()"
   ]
  },
  {
   "cell_type": "code",
   "execution_count": 3,
   "metadata": {},
   "outputs": [],
   "source": [
    "import numpy as np\n",
    "import cv2\n",
    "from numba import jit, cuda"
   ]
  },
  {
   "cell_type": "code",
   "execution_count": 4,
   "metadata": {},
   "outputs": [],
   "source": [
    "face_cascade = cv2.CascadeClassifier('../../../opencv-master/data/haarcascades/haarcascade_frontalface_default.xml')\n",
    "eye_cascade = cv2.CascadeClassifier('../../../opencv-master/data/haarcascades/haarcascade_eye.xml')"
   ]
  },
  {
   "cell_type": "code",
   "execution_count": 5,
   "metadata": {},
   "outputs": [],
   "source": [
    "a =[]\n",
    "a.append(2)\n",
    "a.append(5)\n",
    "a\n",
    "import glob"
   ]
  },
  {
   "cell_type": "code",
   "execution_count": 6,
   "metadata": {
    "scrolled": true
   },
   "outputs": [],
   "source": [
    "from numba import jit\n",
    "\n",
    "class vidproc:\n",
    "    def __init__(self, cap =[], sav_opt = 0, filename=[]):\n",
    "        self.pixval1 = []\n",
    "        self.cap = cap\n",
    "        self.fps = cap.get(cv2.CAP_PROP_FPS)\n",
    "        self.sav_opt =  sav_opt\n",
    "        self.filename =  filename\n",
    "    \n",
    "    @jit\n",
    "    def run_vid(self):\n",
    "        pixVal = []\n",
    "        pixVal2 = []\n",
    "        cropmn = []\n",
    "        loop_t = 0\n",
    "        while(self.cap.isOpened()):\n",
    "            ret, frame = self.cap.read() \n",
    "\n",
    "            if ret ==0:\n",
    "                break\n",
    "            # converting BGR to HSV \n",
    "\n",
    "            gray = cv2.cvtColor(frame, cv2.COLOR_BGR2GRAY)\n",
    "\n",
    "            faces = face_cascade.detectMultiScale(\n",
    "                    gray,\n",
    "                    scaleFactor=1.1,\n",
    "                    minNeighbors=5,\n",
    "                    minSize = (30,30),\n",
    "                    flags = cv2.CASCADE_SCALE_IMAGE\n",
    "                    )\n",
    "\n",
    "            cropIm = frame[600:700, 700:750]\n",
    "            cropmn.append(cropIm.mean())\n",
    "\n",
    "            #eyes = eye_cascade.detectMultiScale(gray, 1.1,3)\n",
    "\n",
    "            #for f in faces:\n",
    "                #x, y, w, h = [ v for v in f ]\n",
    "               # cv2.rectangle(frame, (x,y), (x+w,y+h), (255,255,255))\n",
    "\n",
    "                #sub_face = frame[y-50:y+h+50, x:x+w]\n",
    "                #\n",
    "                #sub_face = frame[180:750, 750:1170]\n",
    "                \n",
    "                #sub_face = cv2.resize(sub_face, (600,700))\n",
    "                \n",
    "                #[a,b,c,d] = [30, 50, 550, 240]\n",
    "                \n",
    "                #cv2.rectangle(sub_face, (a,b), (c, d), (255,255,255))\n",
    "                \n",
    "                #chickimg = sub_face[b:d, a:c]\n",
    "                \n",
    "                #chickimg =  cv2.resize(chickimg, (200, 200))\n",
    "                \n",
    "            \n",
    "            sub_face = frame[200:800, 670:1050]\n",
    "                \n",
    "            sub_face = cv2.resize(sub_face, (600,700))\n",
    "                \n",
    "            [a,b,c,d] = [380, 350, 580, 550]\n",
    "                \n",
    "            cv2.rectangle(sub_face, (a,b), (c, d), (255,255,255))\n",
    "                \n",
    "            chickimg = sub_face[b:d, a:c]\n",
    "                \n",
    "            chickimg =  cv2.resize(chickimg, (200, 200))\n",
    "            \n",
    "            \n",
    "            # Display the resulting frame\n",
    "        \n",
    "            self.pixval1.append(chickimg)\n",
    "            \n",
    "            \n",
    "            cv2.imshow('Video', sub_face)           \n",
    "            if cv2.waitKey(1) & 0xFF == ord('q'):\n",
    "                break\n",
    "              \n",
    "            \n",
    "            loop_t = +1\n",
    "\n",
    "        pixd = {'p1': pixVal, 'p2': pixVal2, 'cpm' : cropmn}\n",
    "        self.pixval1 = np.array(self.pixval1)\n",
    "        \n",
    "        if self.sav_opt: \n",
    "            self.vidwrit(i2s =  self.pixval1) \n",
    "        \n",
    "        return pixd, self.pixval1\n",
    "    \n",
    "    \n",
    "    def vidwrit(self, i2s=[]):\n",
    "        \n",
    "        out = cv2.VideoWriter('TrainPrep/RCheek/' + self.filename ,cv2.VideoWriter_fourcc(*'DIVX'), \n",
    "                              self.fps, (200, 200))\n",
    "        for i in range(len(i2s)):\n",
    "            out.write(i2s[i])\n",
    "        out.release()"
   ]
  },
  {
   "cell_type": "code",
   "execution_count": 7,
   "metadata": {
    "scrolled": true
   },
   "outputs": [
    {
     "name": "stderr",
     "output_type": "stream",
     "text": [
      "<ipython-input-6-76a373ef29f1>:11: NumbaWarning: \u001b[1m\n",
      "Compilation is falling back to object mode WITH looplifting enabled because Function \"run_vid\" failed type inference due to: \u001b[1mUntyped global name 'face_cascade':\u001b[0m \u001b[1m\u001b[1mcannot determine Numba type of <class 'cv2.CascadeClassifier'>\u001b[0m\n",
      "\u001b[1m\n",
      "File \"<ipython-input-6-76a373ef29f1>\", line 26:\u001b[0m\n",
      "\u001b[1m    def run_vid(self):\n",
      "        <source elided>\n",
      "\n",
      "\u001b[1m            faces = face_cascade.detectMultiScale(\n",
      "\u001b[0m            \u001b[1m^\u001b[0m\u001b[0m\n",
      "\u001b[0m\u001b[0m\n",
      "  @jit\n",
      "<ipython-input-6-76a373ef29f1>:11: NumbaWarning: \u001b[1m\n",
      "Compilation is falling back to object mode WITHOUT looplifting enabled because Function \"run_vid\" failed type inference due to: \u001b[1m\u001b[1mcannot determine Numba type of <class 'numba.dispatcher.LiftedLoop'>\u001b[0m\n",
      "\u001b[1m\n",
      "File \"<ipython-input-6-76a373ef29f1>\", line 17:\u001b[0m\n",
      "\u001b[1m    def run_vid(self):\n",
      "        <source elided>\n",
      "        loop_t = 0\n",
      "\u001b[1m        while(self.cap.isOpened()):\n",
      "\u001b[0m        \u001b[1m^\u001b[0m\u001b[0m\n",
      "\u001b[0m\u001b[0m\n",
      "  @jit\n",
      "/home/zahid/anaconda3/envs/work_env/lib/python3.7/site-packages/numba/object_mode_passes.py:178: NumbaWarning: \u001b[1mFunction \"run_vid\" was compiled in object mode without forceobj=True, but has lifted loops.\n",
      "\u001b[1m\n",
      "File \"<ipython-input-6-76a373ef29f1>\", line 13:\u001b[0m\n",
      "\u001b[1m    def run_vid(self):\n",
      "\u001b[1m        pixVal = []\n",
      "\u001b[0m        \u001b[1m^\u001b[0m\u001b[0m\n",
      "\u001b[0m\n",
      "  state.func_ir.loc))\n",
      "/home/zahid/anaconda3/envs/work_env/lib/python3.7/site-packages/numba/object_mode_passes.py:188: NumbaDeprecationWarning: \u001b[1m\n",
      "Fall-back from the nopython compilation path to the object mode compilation path has been detected, this is deprecated behaviour.\n",
      "\n",
      "For more information visit http://numba.pydata.org/numba-doc/latest/reference/deprecation.html#deprecation-of-object-mode-fall-back-behaviour-when-using-jit\n",
      "\u001b[1m\n",
      "File \"<ipython-input-6-76a373ef29f1>\", line 13:\u001b[0m\n",
      "\u001b[1m    def run_vid(self):\n",
      "\u001b[1m        pixVal = []\n",
      "\u001b[0m        \u001b[1m^\u001b[0m\u001b[0m\n",
      "\u001b[0m\n",
      "  state.func_ir.loc))\n",
      "<ipython-input-6-76a373ef29f1>:11: NumbaWarning: \u001b[1m\n",
      "Compilation is falling back to object mode WITHOUT looplifting enabled because Function \"run_vid\" failed type inference due to: \u001b[1mUntyped global name 'face_cascade':\u001b[0m \u001b[1m\u001b[1mcannot determine Numba type of <class 'cv2.CascadeClassifier'>\u001b[0m\n",
      "\u001b[1m\n",
      "File \"<ipython-input-6-76a373ef29f1>\", line 26:\u001b[0m\n",
      "\u001b[1m    def run_vid(self):\n",
      "        <source elided>\n",
      "\n",
      "\u001b[1m            faces = face_cascade.detectMultiScale(\n",
      "\u001b[0m            \u001b[1m^\u001b[0m\u001b[0m\n",
      "\u001b[0m\u001b[0m\n",
      "  @jit\n",
      "/home/zahid/anaconda3/envs/work_env/lib/python3.7/site-packages/numba/object_mode_passes.py:178: NumbaWarning: \u001b[1mFunction \"run_vid\" was compiled in object mode without forceobj=True.\n",
      "\u001b[1m\n",
      "File \"<ipython-input-6-76a373ef29f1>\", line 17:\u001b[0m\n",
      "\u001b[1m    def run_vid(self):\n",
      "        <source elided>\n",
      "        loop_t = 0\n",
      "\u001b[1m        while(self.cap.isOpened()):\n",
      "\u001b[0m        \u001b[1m^\u001b[0m\u001b[0m\n",
      "\u001b[0m\n",
      "  state.func_ir.loc))\n",
      "/home/zahid/anaconda3/envs/work_env/lib/python3.7/site-packages/numba/object_mode_passes.py:188: NumbaDeprecationWarning: \u001b[1m\n",
      "Fall-back from the nopython compilation path to the object mode compilation path has been detected, this is deprecated behaviour.\n",
      "\n",
      "For more information visit http://numba.pydata.org/numba-doc/latest/reference/deprecation.html#deprecation-of-object-mode-fall-back-behaviour-when-using-jit\n",
      "\u001b[1m\n",
      "File \"<ipython-input-6-76a373ef29f1>\", line 17:\u001b[0m\n",
      "\u001b[1m    def run_vid(self):\n",
      "        <source elided>\n",
      "        loop_t = 0\n",
      "\u001b[1m        while(self.cap.isOpened()):\n",
      "\u001b[0m        \u001b[1m^\u001b[0m\u001b[0m\n",
      "\u001b[0m\n",
      "  state.func_ir.loc))\n"
     ]
    }
   ],
   "source": [
    "vidname = 'p15_physical.MP4'\n",
    "cap = cv2.VideoCapture(vidname)\n",
    "    # Check if camera opened successfully\n",
    "videop =  vidproc(cap = cap, sav_opt = 0, filename = vidname)\n",
    "pixVal, pv1 = videop.run_vid()\n",
    "\n",
    "cap.release()\n",
    "cv2.destroyAllWindows()\n",
    "\n",
    "pv1 = np.array(pv1)"
   ]
  },
  {
   "cell_type": "code",
   "execution_count": 8,
   "metadata": {},
   "outputs": [
    {
     "data": {
      "text/plain": [
       "'TrainPrep/LCheek/p1_physical.MP4'"
      ]
     },
     "execution_count": 8,
     "metadata": {},
     "output_type": "execute_result"
    }
   ],
   "source": [
    "vidname = 'p1_physical.MP4'\n",
    "'TrainPrep/LCheek/'+vidname"
   ]
  },
  {
   "cell_type": "code",
   "execution_count": 9,
   "metadata": {},
   "outputs": [],
   "source": [
    "out = cv2.VideoWriter('TrainPrep/LCheek/p13vong_normal.avi',cv2.VideoWriter_fourcc(*'DIVX'), 25.0, (200, 200))\n",
    "for i in range(len(pv1)):\n",
    "    out.write(pv1[i])\n",
    "out.release()"
   ]
  },
  {
   "cell_type": "code",
   "execution_count": 10,
   "metadata": {},
   "outputs": [],
   "source": [
    "#videop.vidwrit(pv1)"
   ]
  },
  {
   "cell_type": "code",
   "execution_count": 11,
   "metadata": {},
   "outputs": [
    {
     "name": "stdout",
     "output_type": "stream",
     "text": [
      "25.0\n"
     ]
    }
   ],
   "source": [
    "cap = cv2.VideoCapture('p13_normal.MP4')\n",
    "fps = cap.get(cv2.CAP_PROP_FPS)\n",
    "cap.release()\n",
    "print(fps)"
   ]
  },
  {
   "cell_type": "code",
   "execution_count": 12,
   "metadata": {},
   "outputs": [
    {
     "ename": "NameError",
     "evalue": "name 'plt' is not defined",
     "output_type": "error",
     "traceback": [
      "\u001b[0;31m---------------------------------------------------------------------------\u001b[0m",
      "\u001b[0;31mNameError\u001b[0m                                 Traceback (most recent call last)",
      "\u001b[0;32m<ipython-input-12-359d69a862ac>\u001b[0m in \u001b[0;36m<module>\u001b[0;34m\u001b[0m\n\u001b[0;32m----> 1\u001b[0;31m \u001b[0mplt\u001b[0m\u001b[0;34m.\u001b[0m\u001b[0mplot\u001b[0m\u001b[0;34m(\u001b[0m\u001b[0mpixVal1\u001b[0m\u001b[0;34m[\u001b[0m\u001b[0;34m'cpm'\u001b[0m\u001b[0;34m]\u001b[0m\u001b[0;34m)\u001b[0m\u001b[0;34m,\u001b[0m \u001b[0mplt\u001b[0m\u001b[0;34m.\u001b[0m\u001b[0mxlabel\u001b[0m\u001b[0;34m(\u001b[0m\u001b[0;34m\"Time\"\u001b[0m\u001b[0;34m)\u001b[0m\u001b[0;34m,\u001b[0m \u001b[0mplt\u001b[0m\u001b[0;34m.\u001b[0m\u001b[0mylabel\u001b[0m\u001b[0;34m(\u001b[0m\u001b[0;34m\"Magnitude\"\u001b[0m\u001b[0;34m)\u001b[0m\u001b[0;34m,\u001b[0m \u001b[0mplt\u001b[0m\u001b[0;34m.\u001b[0m\u001b[0mtitle\u001b[0m\u001b[0;34m(\u001b[0m\u001b[0;34m\"Original signal\"\u001b[0m\u001b[0;34m)\u001b[0m\u001b[0;34m\u001b[0m\u001b[0;34m\u001b[0m\u001b[0m\n\u001b[0m",
      "\u001b[0;31mNameError\u001b[0m: name 'plt' is not defined"
     ]
    }
   ],
   "source": [
    "\n",
    "plt.plot(pixVal1['cpm']), plt.xlabel(\"Time\"), plt.ylabel(\"Magnitude\"), plt.title(\"Original signal\")"
   ]
  },
  {
   "cell_type": "code",
   "execution_count": 13,
   "metadata": {},
   "outputs": [
    {
     "ename": "NameError",
     "evalue": "name 'pixVal1' is not defined",
     "output_type": "error",
     "traceback": [
      "\u001b[0;31m---------------------------------------------------------------------------\u001b[0m",
      "\u001b[0;31mNameError\u001b[0m                                 Traceback (most recent call last)",
      "\u001b[0;32m<ipython-input-13-aace1dd36aff>\u001b[0m in \u001b[0;36m<module>\u001b[0;34m\u001b[0m\n\u001b[0;32m----> 1\u001b[0;31m \u001b[0mbb\u001b[0m\u001b[0;34m=\u001b[0m \u001b[0mnp\u001b[0m\u001b[0;34m.\u001b[0m\u001b[0marray\u001b[0m\u001b[0;34m(\u001b[0m \u001b[0mpixVal1\u001b[0m\u001b[0;34m[\u001b[0m\u001b[0;34m'cpm'\u001b[0m\u001b[0;34m]\u001b[0m\u001b[0;34m)\u001b[0m\u001b[0;34m\u001b[0m\u001b[0;34m\u001b[0m\u001b[0m\n\u001b[0m\u001b[1;32m      2\u001b[0m \u001b[0;34m\u001b[0m\u001b[0m\n\u001b[1;32m      3\u001b[0m \u001b[0;31m#bb= np.reshape(bb, [-1,1])\u001b[0m\u001b[0;34m\u001b[0m\u001b[0;34m\u001b[0m\u001b[0;34m\u001b[0m\u001b[0m\n\u001b[1;32m      4\u001b[0m \u001b[0;34m\u001b[0m\u001b[0m\n\u001b[1;32m      5\u001b[0m \u001b[0mbb\u001b[0m\u001b[0;34m.\u001b[0m\u001b[0mshape\u001b[0m\u001b[0;34m\u001b[0m\u001b[0;34m\u001b[0m\u001b[0m\n",
      "\u001b[0;31mNameError\u001b[0m: name 'pixVal1' is not defined"
     ]
    }
   ],
   "source": [
    "bb= np.array( pixVal1['cpm'])\n",
    "\n",
    "#bb= np.reshape(bb, [-1,1])\n",
    "\n",
    "bb.shape"
   ]
  },
  {
   "cell_type": "code",
   "execution_count": 14,
   "metadata": {},
   "outputs": [
    {
     "ename": "NameError",
     "evalue": "name 'bb' is not defined",
     "output_type": "error",
     "traceback": [
      "\u001b[0;31m---------------------------------------------------------------------------\u001b[0m",
      "\u001b[0;31mNameError\u001b[0m                                 Traceback (most recent call last)",
      "\u001b[0;32m<ipython-input-14-d34d7b8776cc>\u001b[0m in \u001b[0;36m<module>\u001b[0;34m\u001b[0m\n\u001b[1;32m      2\u001b[0m \u001b[0;32mfrom\u001b[0m \u001b[0mscipy\u001b[0m\u001b[0;34m.\u001b[0m\u001b[0mfftpack\u001b[0m \u001b[0;32mimport\u001b[0m \u001b[0mfft\u001b[0m\u001b[0;34m\u001b[0m\u001b[0;34m\u001b[0m\u001b[0m\n\u001b[1;32m      3\u001b[0m \u001b[0;34m\u001b[0m\u001b[0m\n\u001b[0;32m----> 4\u001b[0;31m \u001b[0myf\u001b[0m \u001b[0;34m=\u001b[0m \u001b[0mscipy\u001b[0m\u001b[0;34m.\u001b[0m\u001b[0mfftpack\u001b[0m\u001b[0;34m.\u001b[0m\u001b[0mfft\u001b[0m\u001b[0;34m(\u001b[0m\u001b[0mbb\u001b[0m\u001b[0;34m)\u001b[0m\u001b[0;34m\u001b[0m\u001b[0;34m\u001b[0m\u001b[0m\n\u001b[0m\u001b[1;32m      5\u001b[0m \u001b[0;34m\u001b[0m\u001b[0m\n\u001b[1;32m      6\u001b[0m \u001b[0mxf\u001b[0m \u001b[0;34m=\u001b[0m  \u001b[0mnp\u001b[0m\u001b[0;34m.\u001b[0m\u001b[0mlinspace\u001b[0m\u001b[0;34m(\u001b[0m\u001b[0;36m0\u001b[0m\u001b[0;34m,\u001b[0m\u001b[0;36m12.5\u001b[0m\u001b[0;34m,\u001b[0m \u001b[0;36m500\u001b[0m\u001b[0;34m)\u001b[0m\u001b[0;34m\u001b[0m\u001b[0;34m\u001b[0m\u001b[0m\n",
      "\u001b[0;31mNameError\u001b[0m: name 'bb' is not defined"
     ]
    }
   ],
   "source": [
    "import scipy\n",
    "from scipy.fftpack import fft \n",
    "\n",
    "yf = scipy.fftpack.fft(bb) \n",
    " \n",
    "xf =  np.linspace(0,12.5, 500)\n",
    "plt.plot(np.abs(yf[20:200]))\n",
    "\n",
    "\n",
    "## Get frequencies corresponding to signal PSD "
   ]
  },
  {
   "cell_type": "code",
   "execution_count": 15,
   "metadata": {},
   "outputs": [
    {
     "ename": "NameError",
     "evalue": "name 'bb' is not defined",
     "output_type": "error",
     "traceback": [
      "\u001b[0;31m---------------------------------------------------------------------------\u001b[0m",
      "\u001b[0;31mNameError\u001b[0m                                 Traceback (most recent call last)",
      "\u001b[0;32m<ipython-input-15-009b5d28c859>\u001b[0m in \u001b[0;36m<module>\u001b[0;34m\u001b[0m\n\u001b[0;32m----> 1\u001b[0;31m \u001b[0mfreq\u001b[0m \u001b[0;34m=\u001b[0m \u001b[0mnp\u001b[0m\u001b[0;34m.\u001b[0m\u001b[0mfft\u001b[0m\u001b[0;34m.\u001b[0m\u001b[0mfftfreq\u001b[0m\u001b[0;34m(\u001b[0m\u001b[0mbb\u001b[0m\u001b[0;34m.\u001b[0m\u001b[0msize\u001b[0m\u001b[0;34m,\u001b[0m \u001b[0md\u001b[0m\u001b[0;34m=\u001b[0m\u001b[0;36m1\u001b[0m\u001b[0;34m/\u001b[0m\u001b[0;36m25\u001b[0m\u001b[0;34m)\u001b[0m\u001b[0;34m\u001b[0m\u001b[0;34m\u001b[0m\u001b[0m\n\u001b[0m\u001b[1;32m      2\u001b[0m \u001b[0mval\u001b[0m \u001b[0;34m=\u001b[0m \u001b[0mnp\u001b[0m\u001b[0;34m.\u001b[0m\u001b[0mabs\u001b[0m\u001b[0;34m(\u001b[0m\u001b[0mfreq\u001b[0m\u001b[0;34m)\u001b[0m\u001b[0;34m<\u001b[0m\u001b[0;36m.8\u001b[0m\u001b[0;34m\u001b[0m\u001b[0;34m\u001b[0m\u001b[0m\n\u001b[1;32m      3\u001b[0m \u001b[0;34m\u001b[0m\u001b[0m\n\u001b[1;32m      4\u001b[0m \u001b[0myf\u001b[0m\u001b[0;34m[\u001b[0m\u001b[0mval\u001b[0m\u001b[0;34m]\u001b[0m \u001b[0;34m=\u001b[0m \u001b[0;36m0\u001b[0m\u001b[0;34m\u001b[0m\u001b[0;34m\u001b[0m\u001b[0m\n\u001b[1;32m      5\u001b[0m \u001b[0;34m\u001b[0m\u001b[0m\n",
      "\u001b[0;31mNameError\u001b[0m: name 'bb' is not defined"
     ]
    }
   ],
   "source": [
    "freq = np.fft.fftfreq(bb.size, d=1/25)\n",
    "val = np.abs(freq)<.8\n",
    "\n",
    "yf[val] = 0\n",
    "\n",
    "val = np.abs(freq)>4\n",
    "\n",
    "yf[val] = 0\n",
    "\n",
    "\n",
    "plt.plot(freq, np.abs(yf)), plt.xlabel(\"Frequency\"), plt.ylabel(\"Magnitude\"), plt.title(\"Filtered frequency\")\n",
    "\n",
    "resig = scipy.fftpack.ifft(yf)\n",
    "plt.figure()\n",
    "plt.plot(resig), plt.xlabel(\"Time\"), plt.ylabel(\"Magnitude\"),  plt.title(\"Reconstructed\")"
   ]
  },
  {
   "cell_type": "code",
   "execution_count": 16,
   "metadata": {},
   "outputs": [
    {
     "data": {
      "text/plain": [
       "'/data/E_drive/Dataset/Data-VPD-github1/data/Video'"
      ]
     },
     "execution_count": 16,
     "metadata": {},
     "output_type": "execute_result"
    }
   ],
   "source": [
    "pwd"
   ]
  },
  {
   "cell_type": "code",
   "execution_count": 23,
   "metadata": {
    "scrolled": true
   },
   "outputs": [
    {
     "data": {
      "text/plain": [
       "'-97'"
      ]
     },
     "execution_count": 23,
     "metadata": {},
     "output_type": "execute_result"
    }
   ],
   "source": [
    "file= open(\"../ECG/p15_physical.txt\",\"rt\")\n",
    "text = file.read()\n",
    "file.close()\n",
    "\n",
    "val = text.split()\n",
    "\n",
    "len(val)\n",
    "val[520]"
   ]
  },
  {
   "cell_type": "code",
   "execution_count": 93,
   "metadata": {},
   "outputs": [
    {
     "data": {
      "text/plain": [
       "dict"
      ]
     },
     "execution_count": 93,
     "metadata": {},
     "output_type": "execute_result"
    },
    {
     "data": {
      "image/png": "[encoded data removed]",
      "text/plain": [
       "<Figure size 432x288 with 1 Axes>"
      ]
     },
     "metadata": {
      "needs_background": "light"
     },
     "output_type": "display_data"
    }
   ],
   "source": [
    "# Reading ECG signal form the text file \n",
    "EcgS = {}\n",
    "\n",
    "for i,j in zip(['#I[uV]','#II[uV]', '#III[uV]', '#avR[uV]', '#avL[uV]'],['#II[uV]', '#III[uV]', '#avR[uV]', '#avL[uV]','#avF[uV]']):\n",
    "    resf = np.array( [ _ for _ in range(len(val)) if val[_] == i])\n",
    "    rese = np.array( [_ for _ in range(len(val)) if val[_] == j])\n",
    "    EcgS[i] =  np.array(val[resf[0]+1: rese[0]]).astype(float)\n",
    "\n",
    "EcgS[j] = np.array(val[rese[0]+1:]).astype(float)\n",
    "\n",
    "#plt.plot(val2)\n",
    "plt.plot(EcgS['#I[uV]'][8:]), plt.xlabel(\"Time\"), plt.ylabel(\"Magnitude\"),  plt.title(\"ECG\")\n",
    "\n",
    "type(EcgS)"
   ]
  },
  {
   "cell_type": "code",
   "execution_count": 94,
   "metadata": {},
   "outputs": [
    {
     "data": {
      "text/plain": [
       "dict"
      ]
     },
     "execution_count": 94,
     "metadata": {},
     "output_type": "execute_result"
    }
   ],
   "source": [
    "type(EcgS)"
   ]
  },
  {
   "cell_type": "code",
   "execution_count": 113,
   "metadata": {},
   "outputs": [],
   "source": [
    "from scipy.io import loadmat\n",
    "x=loadmat('../../../Merl_Tim/Subject1_still/PulseOX/pulseOx.mat')"
   ]
  },
  {
   "cell_type": "code",
   "execution_count": 120,
   "metadata": {},
   "outputs": [
    {
     "data": {
      "text/plain": [
       "dict_keys(['__header__', '__version__', '__globals__', 'pulseOxRecord', 'pulseOxTime', 'numPulseSample'])"
      ]
     },
     "execution_count": 120,
     "metadata": {},
     "output_type": "execute_result"
    }
   ],
   "source": [
    "x.keys()"
   ]
  },
  {
   "cell_type": "code",
   "execution_count": 335,
   "metadata": {},
   "outputs": [
    {
     "data": {
      "text/plain": [
       "[]"
      ]
     },
     "execution_count": 335,
     "metadata": {},
     "output_type": "execute_result"
    }
   ],
   "source": [
    "x['__globals__']"
   ]
  },
  {
   "cell_type": "code",
   "execution_count": 314,
   "metadata": {},
   "outputs": [],
   "source": [
    "pulseoxR = np.squeeze(x['pulseOxRecord'])\n",
    "pulseoxT = x['pulseOxTime']"
   ]
  },
  {
   "cell_type": "code",
   "execution_count": 328,
   "metadata": {},
   "outputs": [
    {
     "ename": "IndexError",
     "evalue": "tuple index out of range",
     "output_type": "error",
     "traceback": [
      "\u001b[0;31m---------------------------------------------------------------------------\u001b[0m",
      "\u001b[0;31mIndexError\u001b[0m                                Traceback (most recent call last)",
      "\u001b[0;32m<ipython-input-328-f2bb46c1bfe2>\u001b[0m in \u001b[0;36m<module>\u001b[0;34m\u001b[0m\n\u001b[1;32m      1\u001b[0m \u001b[0mpulR\u001b[0m \u001b[0;34m=\u001b[0m \u001b[0;34m[\u001b[0m\u001b[0;34m]\u001b[0m\u001b[0;34m\u001b[0m\u001b[0;34m\u001b[0m\u001b[0m\n\u001b[1;32m      2\u001b[0m \u001b[0mpulT\u001b[0m \u001b[0;34m=\u001b[0m \u001b[0;34m[\u001b[0m\u001b[0;34m]\u001b[0m\u001b[0;34m\u001b[0m\u001b[0;34m\u001b[0m\u001b[0m\n\u001b[0;32m----> 3\u001b[0;31m \u001b[0mpulseoxR\u001b[0m\u001b[0;34m.\u001b[0m\u001b[0mshape\u001b[0m\u001b[0;34m[\u001b[0m\u001b[0;36m1\u001b[0m\u001b[0;34m]\u001b[0m\u001b[0;34m\u001b[0m\u001b[0;34m\u001b[0m\u001b[0m\n\u001b[0m",
      "\u001b[0;31mIndexError\u001b[0m: tuple index out of range"
     ]
    }
   ],
   "source": [
    "\n",
    "pulT = []\n",
    "pulseoxR.shape[1]"
   ]
  },
  {
   "cell_type": "code",
   "execution_count": 331,
   "metadata": {},
   "outputs": [
    {
     "data": {
      "text/plain": [
       "[<matplotlib.lines.Line2D at 0x7f304c731fd0>]"
      ]
     },
     "execution_count": 331,
     "metadata": {},
     "output_type": "execute_result"
    },
    {
     "data": {
      "image/png": "[encoded data removed]",
      "text/plain": [
       "<Figure size 432x288 with 1 Axes>"
      ]
     },
     "metadata": {
      "needs_background": "light"
     },
     "output_type": "display_data"
    }
   ],
   "source": [
    "pulR = []\n",
    "for i in range(pulseoxR.shape[0]):\n",
    "    pulR.append(pulseoxR[i][0][0])\n",
    "\n",
    "plt.plot(np.array(pulR[7000:8000]))"
   ]
  },
  {
   "cell_type": "code",
   "execution_count": 291,
   "metadata": {},
   "outputs": [
    {
     "data": {
      "text/plain": [
       "[<matplotlib.lines.Line2D at 0x7f30781d0350>]"
      ]
     },
     "execution_count": 291,
     "metadata": {},
     "output_type": "execute_result"
    },
    {
     "data": {
      "image/png": "[encoded data removed]",
      "text/plain": [
       "<Figure size 432x288 with 1 Axes>"
      ]
     },
     "metadata": {
      "needs_background": "light"
     },
     "output_type": "display_data"
    }
   ],
   "source": [
    "plt.plot(pul[1000:2000])"
   ]
  },
  {
   "cell_type": "code",
   "execution_count": 287,
   "metadata": {},
   "outputs": [
    {
     "data": {
      "text/plain": [
       "[array([1, 2, 3]), array([5, 6, 7])]"
      ]
     },
     "execution_count": 287,
     "metadata": {},
     "output_type": "execute_result"
    }
   ],
   "source": []
  }
 ],
 "metadata": {
  "kernelspec": {
   "display_name": "Python 3",
   "language": "python",
   "name": "python3"
  },
  "language_info": {
   "codemirror_mode": {
    "name": "ipython",
    "version": 3
   },
   "file_extension": ".py",
   "mimetype": "text/x-python",
   "name": "python",
   "nbconvert_exporter": "python",
   "pygments_lexer": "ipython3",
   "version": "3.7.6"
  }
 },
 "nbformat": 4,
 "nbformat_minor": 4
}
